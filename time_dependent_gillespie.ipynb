{
 "cells": [
  {
   "cell_type": "markdown",
   "metadata": {},
   "source": [
    "## Time Dependent Gillespie Algorithm\n",
    "\n",
    "In this notebook, we provide a numerical implementation of our Gillespie Algorithm, for two contact rate models. The first considers a simple exponential rate (which is not used in the report) and a cyclical contact rate which is used."
   ]
  },
  {
   "cell_type": "code",
   "execution_count": 149,
   "metadata": {},
   "outputs": [],
   "source": [
    "import numpy as np\n",
    "import matplotlib.pyplot as plt\n",
    "import pandas as pd\n",
    "from scipy import optimize"
   ]
  },
  {
   "cell_type": "markdown",
   "metadata": {},
   "source": [
    "## 1 - Exponential Decay Contact Rate Model (Not used in report)\n",
    "Please see the notebook titled `\"exponential_contact_mode.ipynb\"` for implementation of the exponential model that is discussed in our report.\n",
    "\n",
    "Here we consider the contact rate:\n",
    "$$\n",
    "B(t) = Ae^{-\\alpha t}\n",
    "$$"
   ]
  },
  {
   "cell_type": "code",
   "execution_count": 150,
   "metadata": {},
   "outputs": [],
   "source": [
    "def exponential_rate(t, A, a):\n",
    "    return A*np.exp(-a*t)\n",
    "\n",
    "\n",
    "def basic_rate(t, A):\n",
    "    return A\n",
    "\n",
    "\n",
    "def cosine_rate(t, A, a):\n",
    "    return A + a*np.cos(t)"
   ]
  },
  {
   "cell_type": "code",
   "execution_count": 151,
   "metadata": {},
   "outputs": [],
   "source": [
    "from scipy import optimize\n",
    "import time\n",
    "\n",
    "def exp_time_dependent_gillespie(tspan, X_0, f1_values, f2_values):\n",
    "    \n",
    "    \n",
    "    def exp_contact_rate(t, A, a):\n",
    "        return A*np.exp(-a*t)\n",
    "    \n",
    "    \n",
    "    def solve_new_time(t, X, f1_values, f2_values, r):\n",
    "        A = f1_values[0]\n",
    "        a = f1_values[1]\n",
    "        def f(x):\n",
    "            return f2_values*X[1]*x + X[0]*X[1]*A*np.exp(-a*t)*(1 - np.exp(-a*x))/(N*a) - np.log(1/r)\n",
    "        return optimize.broyden1(f, [0.2], f_tol=1e-10)[0]\n",
    "    \n",
    "    \n",
    "    def calc_propensities(t, X, N, f1_values, f2_values):\n",
    "        \n",
    "        # a_1: S + I -> I + I    w/ rate B(t)*S*I/N\n",
    "        a1 = X[0]*X[1]*exp_contact_rate(t, f1_values[0], f1_values[1])/N\n",
    "        \n",
    "        # a_2: I -> R w/ rate gamma*I\n",
    "        a2 = f2_values*X[1]\n",
    "        \n",
    "        return np.sum([a1, a2]), [a1, a2]\n",
    "    \n",
    "    counter = 0\n",
    "    t_0, t_final = tspan\n",
    "    N = np.sum(X_0)\n",
    "    S = X_0[0]\n",
    "    I = X_0[1]\n",
    "    R = X_0[2]\n",
    "    \n",
    "    S_hist = [S]\n",
    "    I_hist = [I]\n",
    "    R_hist = [R]\n",
    "    t_hist = [t_0]\n",
    "    \n",
    "    t = t_0\n",
    "    X = X_0\n",
    "    \n",
    "    prop_func = {}\n",
    "    prop_func[0] = np.array((-1,1,0))   # S + I -> I + I\n",
    "    prop_func[1] = np.array((0,-1,1))   # I -> R\n",
    "    \n",
    "    \n",
    "    while t < t_final:\n",
    "        \n",
    "        # generate new time\n",
    "        r  = np.random.rand()\n",
    "        delta = solve_new_time(t, X, f1_values, f2_values, r)\n",
    "        t = t + delta\n",
    "        \n",
    "        # calculate_propensities for updated time step\n",
    "        a_0, a_list = calc_propensities(t, X, N, f1_values, f2_values)\n",
    "        \n",
    "        # choosing the reaction\n",
    "        r = np.random.rand()\n",
    "        a_list = a_list / a_0\n",
    "        \n",
    "        for k in range(len(a_list)):\n",
    "            if a_list[k] > r:\n",
    "                # reaction k chosen\n",
    "                break\n",
    "            else:\n",
    "                # reaction not chosen\n",
    "                pass\n",
    "        X = X + prop_func[k]\n",
    "        \n",
    "        # record update\n",
    "        S_hist.append(X[0])\n",
    "        I_hist.append(X[1])\n",
    "        R_hist.append(X[2])\n",
    "        t_hist.append(t)\n",
    "        counter += 1\n",
    "        # check for extinction\n",
    "        \n",
    "        if X[1] == 0 :\n",
    "            break\n",
    "            \n",
    "    print(\"=\"*50)\n",
    "    print(\" Basic Next Reaction Method for SIR Model\")\n",
    "    print(\" Reaction 1: S + I -> I + I, with rate \" + str(f1_values))\n",
    "    print(\" Reaction 2:     I -> R    , with rate \" + str(f2_values))\n",
    "    print(\" Total Number of Iterations in Simulation: \" + str(counter))\n",
    "    print(\"=\"*50)\n",
    "    return S_hist, I_hist, R_hist, np.asarray(t_hist)"
   ]
  },
  {
   "cell_type": "code",
   "execution_count": 152,
   "metadata": {},
   "outputs": [
    {
     "name": "stdout",
     "output_type": "stream",
     "text": [
      "==================================================\n",
      " Basic Next Reaction Method for SIR Model\n",
      " Reaction 1: S + I -> I + I, with rate [6, 0.2]\n",
      " Reaction 2:     I -> R    , with rate 1\n",
      " Total Number of Iterations in Simulation: 8933\n",
      "==================================================\n"
     ]
    }
   ],
   "source": [
    "S_hist, I_hist, R_hist, t_hist = exp_time_dependent_gillespie([0,20], [4999, 1, 0], [6, 0.2], 1)"
   ]
  },
  {
   "cell_type": "code",
   "execution_count": 153,
   "metadata": {},
   "outputs": [
    {
     "data": {
      "text/plain": [
       "[<matplotlib.lines.Line2D at 0x2487bb74f98>]"
      ]
     },
     "execution_count": 153,
     "metadata": {},
     "output_type": "execute_result"
    },
    {
     "data": {
      "image/png": "[encoded data removed]",
      "text/plain": [
       "<Figure size 432x288 with 1 Axes>"
      ]
     },
     "metadata": {
      "needs_background": "light"
     },
     "output_type": "display_data"
    }
   ],
   "source": [
    "plt.plot(t_hist, S_hist)\n",
    "plt.plot(t_hist, I_hist)\n",
    "plt.plot(t_hist, R_hist)"
   ]
  },
  {
   "cell_type": "code",
   "execution_count": 154,
   "metadata": {},
   "outputs": [
    {
     "data": {
      "text/plain": [
       "[<matplotlib.lines.Line2D at 0x2487bbbfc18>]"
      ]
     },
     "execution_count": 154,
     "metadata": {},
     "output_type": "execute_result"
    },
    {
     "data": {
      "image/png": "[encoded data removed]",
      "text/plain": [
       "<Figure size 432x288 with 1 Axes>"
      ]
     },
     "metadata": {
      "needs_background": "light"
     },
     "output_type": "display_data"
    }
   ],
   "source": [
    "plt.plot(t_hist, 6*np.exp(-0.2*t_hist))"
   ]
  },
  {
   "cell_type": "markdown",
   "metadata": {},
   "source": [
    "## 2 - Cosine Contact Rate Model (Used in report)\n",
    "Please see the notebook titled `\"cosine_contact_model.ipynb\"` for further discussion and analysis.\n",
    "\n",
    "$$\n",
    "B(t) = A + B\\cos(t)\n",
    "$$"
   ]
  },
  {
   "cell_type": "code",
   "execution_count": 155,
   "metadata": {},
   "outputs": [],
   "source": [
    "def cos_time_dependent_gillespie(tspan, X_0, f1_values, f2_values):\n",
    "    \n",
    "    \n",
    "    def cos_contact_rate(t, A, a):\n",
    "        return A + a*np.cos(t)\n",
    "    \n",
    "    \n",
    "    def solve_new_time(t, X, f1_values, f2_values, r):\n",
    "        A = f1_values[0]\n",
    "        a = f1_values[1]\n",
    "        def f(x):\n",
    "            return f2_values*X[1]*x + (A*x + a*(np.sin(t)*np.cos(x) + np.sin(x)*np.cos(t) - np.sin(t)))*X[0]*X[1]/N - np.log(1/r)\n",
    "        return optimize.diagbroyden(f, [0.2], f_tol=1e-10)[0]\n",
    "    \n",
    "    \n",
    "    def calc_propensities(t, X, N, f1_values, f2_values):\n",
    "        \n",
    "        # a_1: S + I -> I + I    w/ rate B(t)*S*I/N\n",
    "        a1 = X[0]*X[1]*cos_contact_rate(t, f1_values[0], f1_values[1])/N\n",
    "        \n",
    "        # a_2: I -> R w/ rate gamma*I\n",
    "        a2 = f2_values*X[1]\n",
    "        return np.sum([a1, a2]), [a1, a2]\n",
    "    \n",
    "    counter = 0\n",
    "    t_0, t_final = tspan\n",
    "    N = np.sum(X_0)\n",
    "    S = X_0[0]\n",
    "    I = X_0[1]\n",
    "    R = X_0[2]\n",
    "    \n",
    "    S_hist = [S]\n",
    "    I_hist = [I]\n",
    "    R_hist = [R]\n",
    "    t_hist = [t_0]\n",
    "    \n",
    "    ss1 = []\n",
    "    ss2 = []\n",
    "    ss3 = []\n",
    "    \n",
    "    t = t_0\n",
    "    X = X_0\n",
    "    \n",
    "    prop_func = {}\n",
    "    prop_func[0] = np.array((-1,1,0))   # S + I -> I + I\n",
    "    prop_func[1] = np.array((0,-1,1))   # I -> R\n",
    "    \n",
    "    \n",
    "    while t < t_final:\n",
    "        \n",
    "        # generate new time\n",
    "        \n",
    "        r  = np.random.rand()\n",
    "        delta = solve_new_time(t, X, f1_values, f2_values, r)\n",
    "        t = t + delta\n",
    "        \n",
    "        # calculate_propensities for updated time step\n",
    "\n",
    "        a_0, a_list = calc_propensities(t, X, N, f1_values, f2_values)\n",
    "        \n",
    "        # choosing the reaction\n",
    "        \n",
    "        r = np.random.rand()\n",
    "        a_list = a_list / a_0\n",
    "        \n",
    "        for k in range(len(a_list)):\n",
    "            if a_list[k] > r:\n",
    "                # reaction k chosen\n",
    "                break\n",
    "            else:\n",
    "                # reaction not chosen\n",
    "                pass\n",
    "            \n",
    "        X = X + prop_func[k] # perform the reaction\n",
    "        \n",
    "        # record update\n",
    "        S_hist.append(X[0])\n",
    "        I_hist.append(X[1])\n",
    "        R_hist.append(X[2])\n",
    "        t_hist.append(t)\n",
    "        counter += 1\n",
    "        # check for extinction\n",
    "        \n",
    "        if X[1] == 0 :\n",
    "            break\n",
    "    return S_hist, I_hist, R_hist, np.asarray(t_hist)"
   ]
  },
  {
   "cell_type": "code",
   "execution_count": 156,
   "metadata": {},
   "outputs": [],
   "source": [
    "t_sim = 0\n",
    "while t_sim < 1:\n",
    "    # find major epidemic - takes longer than 1 second to compute unlike a non-major epidemic\n",
    "    start = time.time()\n",
    "    S, I, R, t = cos_time_dependent_gillespie([0, 100], [4999, 1, 0], [1.4, 1], 1)\n",
    "    end = time.time()\n",
    "    t_sim = end - start"
   ]
  },
  {
   "cell_type": "code",
   "execution_count": 158,
   "metadata": {},
   "outputs": [
    {
     "data": {
      "text/plain": [
       "<matplotlib.legend.Legend at 0x2487bc323c8>"
      ]
     },
     "execution_count": 158,
     "metadata": {},
     "output_type": "execute_result"
    },
    {
     "data": {
      "image/png": "[encoded data removed]",
      "text/plain": [
       "<Figure size 432x288 with 1 Axes>"
      ]
     },
     "metadata": {
      "needs_background": "light"
     },
     "output_type": "display_data"
    }
   ],
   "source": [
    "fig, ax = plt.subplots()\n",
    "ax.plot(t, S, label = \"$S(t)$\", linewidth = 2, color = \"teal\")\n",
    "ax.plot(t, R, label = \"$R(t)$\", linewidth = 2, color = \"mediumaquamarine\")\n",
    "ax.plot(t, I, label = \"$I(t)$\", linewidth = 2, color = \"steelblue\")\n",
    "ax.legend(loc='lower left', bbox_to_anchor= (0.0, 1.01), ncol=3, \n",
    "            borderaxespad=0, frameon=False, fontsize = 14)"
   ]
  },
  {
   "cell_type": "code",
   "execution_count": 157,
   "metadata": {},
   "outputs": [],
   "source": [
    "# saving the data for creating later figures\n",
    "\n",
    "import pickle\n",
    "\n",
    "with open(\"data/s_sample_cosine.pkl\", \"wb\") as f:\n",
    "    pickle.dump(S, f)\n",
    "    \n",
    "with open(\"data/i_sample_cosine.pkl\", \"wb\") as f:\n",
    "    pickle.dump(I, f)\n",
    "    \n",
    "with open(\"data/r_sample_cosine.pkl\", \"wb\") as f:\n",
    "    pickle.dump(R, f)\n",
    "    \n",
    "with open(\"data/t_sample_cosine.pkl\", \"wb\") as f:\n",
    "    pickle.dump(t, f)"
   ]
  },
  {
   "cell_type": "code",
   "execution_count": null,
   "metadata": {},
   "outputs": [],
   "source": [
    "# performing many simulations for many different infective introduction times\n",
    "\n",
    "#############################################################################################\n",
    "\"\"\"\n",
    "WARNING \n",
    "    - Takes a long time to run due to solver.\n",
    "    - Produces a lot of data\n",
    "    - Not optimal for sole purpose of looking at epidemic prob as gives full event history\n",
    "\"\"\"          \n",
    "#############################################################################################\n",
    "\n",
    "# this code was copied to Google Colab and run there due to better runtime.\n",
    "\n",
    "import time\n",
    "import pickle\n",
    "\n",
    "start = time.time()\n",
    "\n",
    "\n",
    "t_list = np.linspace(0, 20, 10)\n",
    "\n",
    "t_hist = {}\n",
    "\n",
    "counter = 17\n",
    "for t_0 in t_list:\n",
    "    # test different R_0 values\n",
    "    \n",
    "    t_hist[t_0] = {}\n",
    "    t_hists = {}\n",
    "    S_hists = {}\n",
    "    I_hists = {}\n",
    "    R_hists = {}\n",
    "    \n",
    "    for i in range(100):\n",
    "        S, I, R, t = cos_time_dependent_gillespie([t_0, 100 + t_0], [9999, 1, 0], [1.4, 1], 1)\n",
    "        t_hists[i] = t\n",
    "        S_hists[i] = S\n",
    "        I_hists[i] = I\n",
    "        R_hists[i] = R\n",
    "        \n",
    "    fname_S = \"s_hist_1.4_0.3_1000_counter_\" + str(counter)+  \".pickle\"\n",
    "    fname_I = \"i_hist_1.4_0.3_1000_counter_\" + str(counter)+  \".pickle\"\n",
    "    fname_R = \"r_hist_1.4_0.3_1000_counter_\" + str(counter)+  \".pickle\"\n",
    "    fname_t = \"t_hist_1.4_0.3_1000_counter_\" + str(counter)+  \".pickle\"\n",
    "    \n",
    "    \n",
    "    with open(\"data/\" + fname_S, \"wb\") as f:\n",
    "        pickle.dump(S_hists, f)\n",
    "    \n",
    "    with open(\"data/\" + fname_I, \"wb\") as f:\n",
    "        pickle.dump(I_hists, f)\n",
    "        \n",
    "    with open(\"data/\" + fname_R, \"wb\") as f:\n",
    "        pickle.dump(R_hists, f)\n",
    "        \n",
    "    with open(\"data/\" + fname_t, \"wb\") as f:\n",
    "        pickle.dump(t_hists, f)\n",
    "    \n",
    "        \n",
    "    t_hist[t_0][\"S\"] = S_hists\n",
    "    t_hist[t_0][\"I\"] = I_hists\n",
    "    t_hist[t_0][\"R\"] = R_hists\n",
    "    t_hist[t_0][\"t\"] = t_hists\n",
    "    counter+=1\n",
    "    \n",
    "    print(\"Completed t=\"+str(t_0))\n",
    "end = time.time()\n",
    "\n",
    "print(\"Completed in :\" + str(end - start))"
   ]
  },
  {
   "cell_type": "code",
   "execution_count": null,
   "metadata": {},
   "outputs": [],
   "source": [
    "# Finding lineages which we classify as Major Epidemics vs Minor\n",
    "\n",
    "# We say an epidemic is Major if the total number of infected over the duration of the epidemic was more than 20. \n",
    "\n",
    "\n",
    "major_epi = {}\n",
    "major_epi_threshold = 15\n",
    "\n",
    "for t_0 in t_list:\n",
    "    major_epi[t_0] = []\n",
    "    for i in range(len(t_hist[t_0][\"R\"])):\n",
    "        total_infec = t_hist[t_0][\"R\"][i][-1]\n",
    "        if total_infec >  major_epi_threshold:\n",
    "            major_epi[t_0].append(1)\n",
    "        else:\n",
    "            major_epi[t_0].append(0)"
   ]
  },
  {
   "cell_type": "code",
   "execution_count": null,
   "metadata": {},
   "outputs": [],
   "source": [
    "# Working out probabilities of Major epidemics from simulations\n",
    "\n",
    "prob_list = []\n",
    "\n",
    "for t_0 in t_list:\n",
    "    major = np.sum(major_epi[t_0])\n",
    "    total_sims = len(major_epi[t_0])\n",
    "    print(\"=\"*100)\n",
    "    print(\"t: \"+ str(t_0))\n",
    "    print(\"Simulation Probability: p(t) = \" + str(1 - major / total_sims))\n",
    "    prob_list.append(1 - major / total_sims)\n",
    "    # print(\"Analytical Probability: \" + str(max(0, 1- 1/t_0)))\n",
    "print(\"=\"*100)"
   ]
  },
  {
   "cell_type": "code",
   "execution_count": null,
   "metadata": {},
   "outputs": [],
   "source": []
  }
 ],
 "metadata": {
  "kernelspec": {
   "display_name": "Python 3",
   "language": "python",
   "name": "python3"
  },
  "language_info": {
   "codemirror_mode": {
    "name": "ipython",
    "version": 3
   },
   "file_extension": ".py",
   "mimetype": "text/x-python",
   "name": "python",
   "nbconvert_exporter": "python",
   "pygments_lexer": "ipython3",
   "version": "3.6.6"
  }
 },
 "nbformat": 4,
 "nbformat_minor": 2
}
