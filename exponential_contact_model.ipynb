{
 "cells": [
  {
   "cell_type": "code",
   "execution_count": 1,
   "metadata": {},
   "outputs": [],
   "source": [
    "import numpy as np\n",
    "import matplotlib.pyplot as plt\n",
    "import pandas as pd\n",
    "from scipy import integrate\n",
    "import os\n",
    "import pickle"
   ]
  },
  {
   "cell_type": "code",
   "execution_count": 2,
   "metadata": {},
   "outputs": [
    {
     "data": {
      "text/plain": [
       "'C:\\\\work\\\\oxford_diss'"
      ]
     },
     "execution_count": 2,
     "metadata": {},
     "output_type": "execute_result"
    }
   ],
   "source": [
    "os.getcwd()"
   ]
  },
  {
   "cell_type": "markdown",
   "metadata": {},
   "source": [
    "## Exponential Contact Rate Model\n",
    "\n",
    "Comparing simulation results of CTMC SIR model with contact rate\n",
    "$$\n",
    "B(t) = A + Be^{-\\alpha t}.\n",
    "$$\n",
    "We compare the simulations to our novel ODE approximation model given by the solution to \n",
    "$$\n",
    "\\frac{dq}{dt} = -q^2 + (B(t) + \\mu)q - \\mu.\n",
    "$$\n",
    "In this application, we consider the contact rate function $B(t)$ with parameter values $A = 1.4, B = 1, \\alpha = 0.5$ and removal parameter $\\mu = 1$."
   ]
  },
  {
   "cell_type": "code",
   "execution_count": 3,
   "metadata": {},
   "outputs": [],
   "source": [
    "# parameters of the model\n",
    "\n",
    "A = 1.4\n",
    "B = 1\n",
    "alpha = 1\n",
    "mu = 1\n",
    "\n",
    "def rate(t, A, B, alpha):\n",
    "    # contact rate for the model\n",
    "    return A + B*np.exp(-alpha*t)\n",
    "\n",
    "def exponential_decay_rate(t, A, a):\n",
    "    return A*np.exp(-a*t)"
   ]
  },
  {
   "cell_type": "markdown",
   "metadata": {},
   "source": [
    "### Simulating the CTMC Exponential Model\n",
    "\n",
    "We note that for a model with an exponential propensity function, instead of solving the integral for the next reaction time, we can instead solve the Lambert Function. This is described further in the paper [1]. We extend the work of the paper given above by considering a propensity function with both time dependent and time dependent parts. If we let $i$ denote an infection occuring and $r$ a removal with propensities\n",
    "\\begin{align}\n",
    "    &a_i(t) = A + Be^{-\\alpha t} \\\\\n",
    "    &a_r = \\mu.\n",
    "\\end{align}\n",
    "The probability that the reaction $i$ occurs at time $t + \\tau$ is then given by\n",
    "\\begin{align}\n",
    "    \\mathbb{P}(i, \\tau) &= (A + Be^{-\\alpha ( t+ \\tau)})\\exp\\left\\{ -\\int_0^\\tau a_i(t + \\tau') + a_r d\\tau'  \\right\\} \\\\\n",
    "      &= (A + Be^{-\\alpha ( t+ \\tau)})\\exp\\left\\{ - \\tau (A + \\mu) - f_{\\alpha}(\\tau)Be^{-\\alpha t}\\right\\}. \n",
    "\\end{align}\n",
    "where $f_{\\alpha}(\\tau)$ is the function described in by Equation (9) of [1]. That is\n",
    "\\begin{equation}\n",
    "    f_{\\alpha}(\\tau) = \\frac{1}{\\alpha}(1 - e^{-\\alpha \\tau}).\n",
    "\\end{equation}\n",
    "\n",
    "From [1], the next reaction time is therefore a solution of the following\n",
    "\\begin{equation}\n",
    "u_1 = \\exp\\left\\{  -f_{\\alpha}(\\tau)Be^{-\\alpha t} - \\tau(A + \\mu) \\right\\}\n",
    "\\end{equation}\n",
    "where $u_1$ is a randomly generated uniform number. The time to the next reaction $\\tau$ is therefore given by a solution to the Lambert function\n",
    "\n",
    "\\begin{equation}\n",
    "    \\tau = \\frac{1}{\\alpha} W\\left(  D\\exp[ D + \\beta]   \\right) - D - \\beta\n",
    "\\end{equation}\n",
    "where $D = \\frac{Be^{-\\alpha t}}{A + \\mu}$ and $\\beta = \\alpha \\log(u_1) / (A + \\mu)$. In this part, we have omitted the population weights of the propensities which must be taken into account when implementing (i.e $\\mu$ is actually $\\mu I(t)$ and $A + Be^{-\\alpha t}$ represents $(A + Be^{-\\alpha t})S(t)I(t)$ ).\n",
    "\n",
    "\n",
    "[1] - https://ieeexplore.ieee.org/stamp/stamp.jsp?arnumber=1334982"
   ]
  },
  {
   "cell_type": "code",
   "execution_count": 4,
   "metadata": {},
   "outputs": [],
   "source": [
    "import math\n",
    "\n",
    "def time_dependent_gillespie_algo(t0, t_final, X_0, parameters):\n",
    "    from scipy.special import lambertw\n",
    "    \n",
    "    \"\"\"\n",
    "    \n",
    "    Temporal Gillespie Algorithm for a typical SIR CTMC model:\n",
    "    S + I -> I + I (with rate B(t) = A + B*e^{-a*t})\n",
    "    I -> R (with constant rate gamma)\n",
    "    \n",
    "    Parameters: \n",
    "    - t0: initial infective time\n",
    "    - t_final: final simulation time\n",
    "    - X_0: initial breakdown of population: (S, I, R)(0)\n",
    "    - parameters: [A, B, alpha, mu]\n",
    "    \n",
    "    Returns:\n",
    "    - t_hist: history of when reactions occur\n",
    "    - state_hist: the evolution of the epidemic.\n",
    "    \n",
    "    \"\"\"\n",
    "    \n",
    "    def calc_a_i(X, t, parameters, N): \n",
    "        A = parameters[0]*X[0]*X[1] # A\n",
    "        B = parameters[1]*X[0]*X[1]*np.exp(-parameters[2]*t) # Be^{-\\alpha t}\n",
    "        return A/N, B/N\n",
    "        \n",
    "    def calc_a_r(X, t, parameters):\n",
    "        return parameters[3]*X[1] # \\mu\n",
    "    \n",
    "    def f(tau, parameters):\n",
    "        return (1 / parameters[3])*(1 - np.exp(-parameters[3] * tau))\n",
    "    \n",
    "    def calc_a0(X, t, parameters, N):\n",
    "        A, B = calc_a_i(X, t, parameters, N)\n",
    "        A = A*X[0]*X[1]\n",
    "        B = B*X[0]*X[1]\n",
    "        mu = calc_a_r(X, t, parameters)\n",
    "        mu = mu*X[1]\n",
    "        a_list = [(A + B)/N, mu]\n",
    "        a0 = np.sum(a_list)\n",
    "        return a0, a_list\n",
    "\n",
    "    def v1():\n",
    "        # transmition, S + I -> I + I\n",
    "        return np.array((-1, +1, 0))\n",
    "    \n",
    "    def v2():\n",
    "        # recovery, I -> R\n",
    "        return np.array((0, -1, +1))\n",
    "\n",
    "    \n",
    "    S = X_0[0]\n",
    "    I = X_0[1]\n",
    "    R = X_0[2]\n",
    "    N = np.sum(X_0) # population size\n",
    "    \n",
    "    t = t0\n",
    "    state_hist = []\n",
    "    t_hist = []\n",
    "    \n",
    "    stch_vecs = {0:v1, 1:v2}\n",
    "    \n",
    "    X = np.asarray(X_0)\n",
    "    \n",
    "    while t <= t_final:\n",
    "        # calculate a_0\n",
    "        \n",
    "        A, B = calc_a_i(X, t, parameters, N)\n",
    "        mu = calc_a_r(X, t, parameters)\n",
    "        \n",
    "        # generate a reaction time\n",
    "        r1 = np.random.rand()\n",
    "        \n",
    "\n",
    "        # generate time using Lambert function (see: https://ieeexplore.ieee.org/stamp/stamp.jsp?arnumber=1334982)\n",
    "        alpha = B / (A + mu)\n",
    "        beta = parameters[3]*np.log(r1) / (A + mu)\n",
    "        tau = (1 / parameters[3])*(np.real(lambertw(alpha*math.exp(alpha+ beta))) -alpha - beta)\n",
    "        t += tau\n",
    "        r2 = np.random.rand()\n",
    "\n",
    "        # choose which reaction occurs\n",
    "        \n",
    "        a0, a_list = calc_a0(X, t, parameters, N)\n",
    "        for idx in range(len(a_list)):\n",
    "            if r2*a0 < np.sum(a_list[:idx +1]):\n",
    "                reaction_idx = idx\n",
    "                break\n",
    "            elif idx == (len(a_list) - 1):\n",
    "                reaction_idx = idx\n",
    "\n",
    "        # update state vector\n",
    "        X = X + stch_vecs[reaction_idx]()\n",
    "        state_hist.append(X)\n",
    "        t_hist.append(t)\n",
    "            \n",
    "    return t_hist, state_hist"
   ]
  },
  {
   "cell_type": "code",
   "execution_count": 253,
   "metadata": {},
   "outputs": [
    {
     "name": "stderr",
     "output_type": "stream",
     "text": [
      "C:\\Anaconda3\\lib\\site-packages\\ipykernel_launcher.py:78: RuntimeWarning: invalid value encountered in double_scalars\n",
      "C:\\Anaconda3\\lib\\site-packages\\ipykernel_launcher.py:79: RuntimeWarning: divide by zero encountered in double_scalars\n"
     ]
    },
    {
     "name": "stdout",
     "output_type": "stream",
     "text": [
      "0.8576152324676514\n"
     ]
    },
    {
     "data": {
      "image/png": "[encoded data removed]",
      "text/plain": [
       "<Figure size 432x288 with 1 Axes>"
      ]
     },
     "metadata": {
      "needs_background": "light"
     },
     "output_type": "display_data"
    }
   ],
   "source": [
    "import time\n",
    "\n",
    "start = time.time()\n",
    "t_hist, state_hist = time_dependent_gillespie_algo(0, 50, [4999, 1, 0], [0.7, 2, 0.02, 1])\n",
    "end = time.time()\n",
    "print(end - start)\n",
    "plt.plot(t_hist, state_hist)\n",
    "plt.legend([\"S\", \"I\", \"R\"])\n",
    "plt.show()"
   ]
  },
  {
   "cell_type": "code",
   "execution_count": 25,
   "metadata": {},
   "outputs": [
    {
     "data": {
      "image/png": "[encoded data removed]",
      "text/plain": [
       "<Figure size 432x288 with 1 Axes>"
      ]
     },
     "metadata": {
      "needs_background": "light"
     },
     "output_type": "display_data"
    }
   ],
   "source": [
    "# How the contact rate and removal rate changes in time.\n",
    "\n",
    "A = 0.7\n",
    "B = 1.3\n",
    "alpha = 0.2\n",
    "mu = 1\n",
    "\n",
    "t_range = np.linspace(0, 20)\n",
    "contact_rate = rate(t_range, A, B, alpha)\n",
    "\n",
    "fig, ax = plt.subplots()\n",
    "\n",
    "ax.plot(t_range, contact_rate, color = \"teal\", linewidth = 2.5, label = \"Contact Rate, $B(t)$\")\n",
    "ax.axhline(mu, linestyle = \"-.\", color = \"gray\", linewidth = 2.5, label = \"Removal Rate, $\\gamma$\")\n",
    "ax.legend(loc='lower left', bbox_to_anchor= (0.0, 1.01), ncol=2, \n",
    "            borderaxespad=0, frameon=False, fontsize = 13)\n",
    "ax.set_xlabel(\"Time, $t$\", fontsize = 14)\n",
    "ax.set_ylabel(\"Parameter Values\", fontsize = 14)\n",
    "#plt.savefig(\"imgs/exp_contact_rate.pdf\", bbox_inches = \"tight\")"
   ]
  },
  {
   "cell_type": "code",
   "execution_count": 12,
   "metadata": {},
   "outputs": [
    {
     "name": "stderr",
     "output_type": "stream",
     "text": [
      "C:\\Anaconda3\\lib\\site-packages\\ipykernel_launcher.py:78: RuntimeWarning: invalid value encountered in double_scalars\n",
      "C:\\Anaconda3\\lib\\site-packages\\ipykernel_launcher.py:79: RuntimeWarning: divide by zero encountered in double_scalars\n"
     ]
    },
    {
     "name": "stdout",
     "output_type": "stream",
     "text": [
      "Completed: 0.0\n",
      "Completed: 1.3333333333333333\n",
      "Completed: 2.6666666666666665\n",
      "Completed: 4.0\n",
      "Completed: 5.333333333333333\n",
      "Completed: 6.666666666666666\n",
      "Completed: 8.0\n",
      "Completed: 9.333333333333332\n",
      "Completed: 10.666666666666666\n",
      "Completed: 12.0\n",
      "Completed: 13.333333333333332\n",
      "Completed: 14.666666666666666\n",
      "Completed: 16.0\n",
      "Completed: 17.333333333333332\n",
      "Completed: 18.666666666666664\n",
      "Completed: 20.0\n",
      "130.63867902755737\n"
     ]
    }
   ],
   "source": [
    "# performing many simulations to obtain empirical probability of an epidemic.\n",
    "import time\n",
    "start = time.time()\n",
    "\n",
    "major_thresh = 30\n",
    "t_range = np.linspace(0, 20, 16)\n",
    "final_size = {}\n",
    "for t in t_range:\n",
    "    sims = []\n",
    "    for sim in range(5000):\n",
    "        t_hist, state_hist = time_dependent_gillespie_algo(0 + t, 50 + t, [4999, 1, 0], [A, B, alpha, mu])\n",
    "        if state_hist[-1][2] > major_thresh:\n",
    "            sims.append(1)\n",
    "        else:\n",
    "            sims.append(0)\n",
    "    final_size[t] = np.sum(sims) / len(sims)\n",
    "    print(\"Completed: \" + str(t))\n",
    "    \n",
    "end = time.time()\n",
    "print(end - start)"
   ]
  },
  {
   "cell_type": "code",
   "execution_count": 13,
   "metadata": {},
   "outputs": [],
   "source": [
    "# instantenous rate\n",
    "\n",
    "t_range = np.linspace(0, 20)\n",
    "instant_rate = 1 - np.minimum(1, 1 / rate(t_range, A, B, alpha))"
   ]
  },
  {
   "cell_type": "code",
   "execution_count": 14,
   "metadata": {},
   "outputs": [],
   "source": [
    "# ODE approximation from MATLAB ode45\n",
    "\n",
    "ode_sol = pd.read_csv(\"data/exp_model_soln.csv\", header = None) # see MATLAB file labelled \n",
    "ode_time = pd.read_csv(\"data/time_exp_model_soln.csv\", header = None)"
   ]
  },
  {
   "cell_type": "code",
   "execution_count": 24,
   "metadata": {},
   "outputs": [
    {
     "data": {
      "image/png": "[encoded data removed]",
      "text/plain": [
       "<Figure size 432x288 with 1 Axes>"
      ]
     },
     "metadata": {
      "needs_background": "light"
     },
     "output_type": "display_data"
    }
   ],
   "source": [
    "import matplotlib.ticker as plticker\n",
    "\n",
    "fig, ax = plt.subplots()\n",
    "\n",
    "ax.plot(t_range, instant_rate, label = \"Instantenous Rate\", color = \"dodgerblue\", alpha = 0.75, linewidth = 2, linestyle = \"-.\")\n",
    "ax.plot(ode_time, 1 - ode_sol, label = \"ODE Approximation\", color = \"royalblue\", linewidth = 2)\n",
    "ax.scatter(list(final_size.keys()), list(final_size.values()), facecolor = \"white\", color = \"teal\", label = \"Simulation\", linewidth = 1.5)\n",
    "ax.legend(loc='lower left', bbox_to_anchor= (0.0, 1.01), ncol=2, \n",
    "            borderaxespad=0, frameon=False, fontsize = 12)\n",
    "ax.set_ylabel(\"Probability of Major Epidemic, $p(\\\\bar{t})$\", fontsize = 14)\n",
    "ax.set_xlabel(\"Infective Introduction Time, $\\\\bar{t}$\", fontsize = 13)\n",
    "\n",
    "\n",
    "#plt.savefig(\"imgs/exp_prob_epidemic_final.pdf\", bbox_inches = \"tight\")\n"
   ]
  },
  {
   "cell_type": "code",
   "execution_count": null,
   "metadata": {},
   "outputs": [],
   "source": []
  },
  {
   "cell_type": "code",
   "execution_count": null,
   "metadata": {},
   "outputs": [],
   "source": []
  }
 ],
 "metadata": {
  "kernelspec": {
   "display_name": "Python 3",
   "language": "python",
   "name": "python3"
  },
  "language_info": {
   "codemirror_mode": {
    "name": "ipython",
    "version": 3
   },
   "file_extension": ".py",
   "mimetype": "text/x-python",
   "name": "python",
   "nbconvert_exporter": "python",
   "pygments_lexer": "ipython3",
   "version": "3.6.6"
  }
 },
 "nbformat": 4,
 "nbformat_minor": 2
}
