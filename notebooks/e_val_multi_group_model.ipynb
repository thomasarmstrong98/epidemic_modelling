{
 "cells": [
  {
   "cell_type": "markdown",
   "metadata": {},
   "source": [
    "## Eigenvalue Change of Next Generation Matrix\n",
    "\n",
    "Analytically derived a formula to predict the change in the largest eigenvalue of the next generation matrix when we remove one type of infected individual from a multi-group SIR model. This has importance as the largest eigenvalue/spectral radius of the next generation matrix gives the $R_0$ for the system. \n",
    "\n",
    "If we consider $\\textbf{G}$ to be the next generation matrix for the entire multigroup model, with largest eigenvalue $\\lambda$ that has associated left and right eigenvectors $\\textbf{v}^T$ and $\\textbf{u}$, then we define the relative importance of an infective node $I_k$ to be \n",
    "$$\n",
    "\\mathcal{I}_k = -\\frac{\\Delta \\lambda}{\\lambda} \n",
    "$$ where $\\Delta \\lambda$ is the change in the largest eigenvalue upon removal of $I_k$ from the system. We derived the following analytical approximation\n",
    "$$\n",
    "\\mathcal{I}_k = \\frac{\\textbf{u}_k \\textbf{v}_k}{\\textbf{v}^{T}\\textbf{u} - \\textbf{u}_k \\textbf{v}_k}.\n",
    "$$\n",
    "\n",
    "In this notebook, we will apply this approximation to a self-generated toy example.\n",
    "\n",
    "### The Model\n",
    "\n",
    "Each state has an average transmission rate $B_i = \\sum_{j=1}^{7}B_{j,i}$ which gives a rate at which state $i$ infects the other states (including itself). We consider the following multi-group model:\n",
    "\\begin{align}\n",
    "    &\\frac{dS_i}{dt} = -\\sum_{j=0}^{7}B_{i,j} N_i I_j \\\\\n",
    "    &\\frac{dI_i}{dt} = \\sum_{j=0}^{7}B_{i,j} S_i I_j - \\gamma_i I_i\\\\\n",
    "    &\\frac{dR_i}{dt} = \\gamma_i I_i\n",
    "\\end{align}.\n",
    "\n",
    "This system has a disease free solution, when $I_j = 0 \\: \\forall \\:i$, and $S_i^* = \\frac{\\Lambda_i}{\\mu_i}$.\n",
    "\n",
    "### Age Groups\n",
    "Group data using pre-specified groups from PLOS data."
   ]
  },
  {
   "cell_type": "code",
   "execution_count": 114,
   "metadata": {},
   "outputs": [],
   "source": [
    "import numpy as np\n",
    "import matplotlib.pyplot as plt\n",
    "import pandas as pd\n",
    "\n",
    "matplotlib.rc('text', usetex=True)\n",
    "matplotlib.rcParams['text.latex.preamble']=[r\"\\usepackage{amsmath}\"]"
   ]
  },
  {
   "cell_type": "markdown",
   "metadata": {},
   "source": [
    "##### Importing Data from Contact Rate Paper\n",
    "Paper Reference: https://journals.plos.org/plosmedicine/article?id=10.1371/journal.pmed.0050074#s5\n",
    "We specifically use data from the Table S8.4b), which we have converted into csv format."
   ]
  },
  {
   "cell_type": "code",
   "execution_count": 557,
   "metadata": {},
   "outputs": [
    {
     "data": {
      "text/html": [
       "<div>\n",
       "<style scoped>\n",
       "    .dataframe tbody tr th:only-of-type {\n",
       "        vertical-align: middle;\n",
       "    }\n",
       "\n",
       "    .dataframe tbody tr th {\n",
       "        vertical-align: top;\n",
       "    }\n",
       "\n",
       "    .dataframe thead th {\n",
       "        text-align: right;\n",
       "    }\n",
       "</style>\n",
       "<table border=\"1\" class=\"dataframe\">\n",
       "  <thead>\n",
       "    <tr style=\"text-align: right;\">\n",
       "      <th></th>\n",
       "      <th>2</th>\n",
       "      <th>7</th>\n",
       "      <th>12</th>\n",
       "      <th>17</th>\n",
       "      <th>22</th>\n",
       "      <th>27</th>\n",
       "      <th>32</th>\n",
       "      <th>37</th>\n",
       "      <th>42</th>\n",
       "      <th>47</th>\n",
       "      <th>52</th>\n",
       "      <th>57</th>\n",
       "      <th>62</th>\n",
       "      <th>67</th>\n",
       "      <th>72</th>\n",
       "    </tr>\n",
       "  </thead>\n",
       "  <tbody>\n",
       "    <tr>\n",
       "      <th>2</th>\n",
       "      <td>1.00</td>\n",
       "      <td>0.59</td>\n",
       "      <td>0.25</td>\n",
       "      <td>0.18</td>\n",
       "      <td>0.42</td>\n",
       "      <td>0.61</td>\n",
       "      <td>0.57</td>\n",
       "      <td>0.74</td>\n",
       "      <td>0.18</td>\n",
       "      <td>0.20</td>\n",
       "      <td>0.36</td>\n",
       "      <td>0.15</td>\n",
       "      <td>0.18</td>\n",
       "      <td>0.26</td>\n",
       "      <td>0.07</td>\n",
       "    </tr>\n",
       "    <tr>\n",
       "      <th>7</th>\n",
       "      <td>0.74</td>\n",
       "      <td>1.72</td>\n",
       "      <td>0.53</td>\n",
       "      <td>0.44</td>\n",
       "      <td>0.37</td>\n",
       "      <td>0.42</td>\n",
       "      <td>0.68</td>\n",
       "      <td>0.99</td>\n",
       "      <td>0.66</td>\n",
       "      <td>0.15</td>\n",
       "      <td>0.17</td>\n",
       "      <td>0.19</td>\n",
       "      <td>0.41</td>\n",
       "      <td>0.30</td>\n",
       "      <td>0.07</td>\n",
       "    </tr>\n",
       "    <tr>\n",
       "      <th>12</th>\n",
       "      <td>0.36</td>\n",
       "      <td>0.73</td>\n",
       "      <td>1.09</td>\n",
       "      <td>0.79</td>\n",
       "      <td>0.17</td>\n",
       "      <td>0.14</td>\n",
       "      <td>0.32</td>\n",
       "      <td>0.51</td>\n",
       "      <td>0.69</td>\n",
       "      <td>0.27</td>\n",
       "      <td>0.20</td>\n",
       "      <td>0.19</td>\n",
       "      <td>0.17</td>\n",
       "      <td>0.26</td>\n",
       "      <td>0.17</td>\n",
       "    </tr>\n",
       "    <tr>\n",
       "      <th>17</th>\n",
       "      <td>0.26</td>\n",
       "      <td>0.22</td>\n",
       "      <td>0.52</td>\n",
       "      <td>1.20</td>\n",
       "      <td>0.85</td>\n",
       "      <td>0.12</td>\n",
       "      <td>0.17</td>\n",
       "      <td>0.29</td>\n",
       "      <td>0.48</td>\n",
       "      <td>0.51</td>\n",
       "      <td>0.27</td>\n",
       "      <td>0.13</td>\n",
       "      <td>0.09</td>\n",
       "      <td>0.26</td>\n",
       "      <td>0.37</td>\n",
       "    </tr>\n",
       "    <tr>\n",
       "      <th>22</th>\n",
       "      <td>0.39</td>\n",
       "      <td>0.19</td>\n",
       "      <td>0.09</td>\n",
       "      <td>0.38</td>\n",
       "      <td>0.92</td>\n",
       "      <td>0.49</td>\n",
       "      <td>0.28</td>\n",
       "      <td>0.16</td>\n",
       "      <td>0.23</td>\n",
       "      <td>0.44</td>\n",
       "      <td>0.20</td>\n",
       "      <td>0.28</td>\n",
       "      <td>0.11</td>\n",
       "      <td>0.15</td>\n",
       "      <td>0.00</td>\n",
       "    </tr>\n",
       "    <tr>\n",
       "      <th>27</th>\n",
       "      <td>0.53</td>\n",
       "      <td>0.37</td>\n",
       "      <td>0.11</td>\n",
       "      <td>0.20</td>\n",
       "      <td>0.58</td>\n",
       "      <td>0.64</td>\n",
       "      <td>0.35</td>\n",
       "      <td>0.21</td>\n",
       "      <td>0.23</td>\n",
       "      <td>0.25</td>\n",
       "      <td>0.30</td>\n",
       "      <td>0.30</td>\n",
       "      <td>0.20</td>\n",
       "      <td>0.04</td>\n",
       "      <td>0.03</td>\n",
       "    </tr>\n",
       "    <tr>\n",
       "      <th>32</th>\n",
       "      <td>0.77</td>\n",
       "      <td>0.72</td>\n",
       "      <td>0.29</td>\n",
       "      <td>0.17</td>\n",
       "      <td>0.31</td>\n",
       "      <td>0.42</td>\n",
       "      <td>0.80</td>\n",
       "      <td>0.21</td>\n",
       "      <td>0.27</td>\n",
       "      <td>0.38</td>\n",
       "      <td>0.23</td>\n",
       "      <td>0.20</td>\n",
       "      <td>0.23</td>\n",
       "      <td>0.15</td>\n",
       "      <td>0.07</td>\n",
       "    </tr>\n",
       "    <tr>\n",
       "      <th>37</th>\n",
       "      <td>0.73</td>\n",
       "      <td>0.65</td>\n",
       "      <td>0.61</td>\n",
       "      <td>0.35</td>\n",
       "      <td>0.20</td>\n",
       "      <td>0.24</td>\n",
       "      <td>0.47</td>\n",
       "      <td>0.76</td>\n",
       "      <td>0.47</td>\n",
       "      <td>0.29</td>\n",
       "      <td>0.18</td>\n",
       "      <td>0.11</td>\n",
       "      <td>0.32</td>\n",
       "      <td>0.04</td>\n",
       "      <td>0.03</td>\n",
       "    </tr>\n",
       "    <tr>\n",
       "      <th>42</th>\n",
       "      <td>0.38</td>\n",
       "      <td>0.59</td>\n",
       "      <td>0.58</td>\n",
       "      <td>0.47</td>\n",
       "      <td>0.27</td>\n",
       "      <td>0.29</td>\n",
       "      <td>0.25</td>\n",
       "      <td>0.49</td>\n",
       "      <td>0.45</td>\n",
       "      <td>0.40</td>\n",
       "      <td>0.12</td>\n",
       "      <td>0.19</td>\n",
       "      <td>0.23</td>\n",
       "      <td>0.15</td>\n",
       "      <td>0.30</td>\n",
       "    </tr>\n",
       "    <tr>\n",
       "      <th>47</th>\n",
       "      <td>0.22</td>\n",
       "      <td>0.23</td>\n",
       "      <td>0.22</td>\n",
       "      <td>0.34</td>\n",
       "      <td>0.46</td>\n",
       "      <td>0.29</td>\n",
       "      <td>0.17</td>\n",
       "      <td>0.17</td>\n",
       "      <td>0.35</td>\n",
       "      <td>0.58</td>\n",
       "      <td>0.15</td>\n",
       "      <td>0.19</td>\n",
       "      <td>0.14</td>\n",
       "      <td>0.11</td>\n",
       "      <td>0.20</td>\n",
       "    </tr>\n",
       "    <tr>\n",
       "      <th>52</th>\n",
       "      <td>0.26</td>\n",
       "      <td>0.21</td>\n",
       "      <td>0.14</td>\n",
       "      <td>0.17</td>\n",
       "      <td>0.22</td>\n",
       "      <td>0.17</td>\n",
       "      <td>0.15</td>\n",
       "      <td>0.14</td>\n",
       "      <td>0.19</td>\n",
       "      <td>0.27</td>\n",
       "      <td>0.33</td>\n",
       "      <td>0.35</td>\n",
       "      <td>0.20</td>\n",
       "      <td>0.04</td>\n",
       "      <td>0.07</td>\n",
       "    </tr>\n",
       "    <tr>\n",
       "      <th>57</th>\n",
       "      <td>0.22</td>\n",
       "      <td>0.12</td>\n",
       "      <td>0.10</td>\n",
       "      <td>0.10</td>\n",
       "      <td>0.14</td>\n",
       "      <td>0.22</td>\n",
       "      <td>0.13</td>\n",
       "      <td>0.21</td>\n",
       "      <td>0.05</td>\n",
       "      <td>0.25</td>\n",
       "      <td>0.17</td>\n",
       "      <td>0.52</td>\n",
       "      <td>0.32</td>\n",
       "      <td>0.44</td>\n",
       "      <td>0.10</td>\n",
       "    </tr>\n",
       "    <tr>\n",
       "      <th>62</th>\n",
       "      <td>0.22</td>\n",
       "      <td>0.15</td>\n",
       "      <td>0.10</td>\n",
       "      <td>0.10</td>\n",
       "      <td>0.10</td>\n",
       "      <td>0.14</td>\n",
       "      <td>0.15</td>\n",
       "      <td>0.20</td>\n",
       "      <td>0.19</td>\n",
       "      <td>0.13</td>\n",
       "      <td>0.09</td>\n",
       "      <td>0.24</td>\n",
       "      <td>0.27</td>\n",
       "      <td>0.30</td>\n",
       "      <td>0.13</td>\n",
       "    </tr>\n",
       "    <tr>\n",
       "      <th>67</th>\n",
       "      <td>0.05</td>\n",
       "      <td>0.08</td>\n",
       "      <td>0.07</td>\n",
       "      <td>0.08</td>\n",
       "      <td>0.07</td>\n",
       "      <td>0.12</td>\n",
       "      <td>0.08</td>\n",
       "      <td>0.16</td>\n",
       "      <td>0.11</td>\n",
       "      <td>0.04</td>\n",
       "      <td>0.05</td>\n",
       "      <td>0.07</td>\n",
       "      <td>0.17</td>\n",
       "      <td>0.37</td>\n",
       "      <td>0.43</td>\n",
       "    </tr>\n",
       "    <tr>\n",
       "      <th>72</th>\n",
       "      <td>0.09</td>\n",
       "      <td>0.09</td>\n",
       "      <td>0.10</td>\n",
       "      <td>0.08</td>\n",
       "      <td>0.19</td>\n",
       "      <td>0.10</td>\n",
       "      <td>0.05</td>\n",
       "      <td>0.13</td>\n",
       "      <td>0.24</td>\n",
       "      <td>0.29</td>\n",
       "      <td>0.23</td>\n",
       "      <td>0.22</td>\n",
       "      <td>0.11</td>\n",
       "      <td>0.22</td>\n",
       "      <td>0.70</td>\n",
       "    </tr>\n",
       "  </tbody>\n",
       "</table>\n",
       "</div>"
      ],
      "text/plain": [
       "       2     7    12    17    22    27    32    37    42    47    52    57  \\\n",
       "2   1.00  0.59  0.25  0.18  0.42  0.61  0.57  0.74  0.18  0.20  0.36  0.15   \n",
       "7   0.74  1.72  0.53  0.44  0.37  0.42  0.68  0.99  0.66  0.15  0.17  0.19   \n",
       "12  0.36  0.73  1.09  0.79  0.17  0.14  0.32  0.51  0.69  0.27  0.20  0.19   \n",
       "17  0.26  0.22  0.52  1.20  0.85  0.12  0.17  0.29  0.48  0.51  0.27  0.13   \n",
       "22  0.39  0.19  0.09  0.38  0.92  0.49  0.28  0.16  0.23  0.44  0.20  0.28   \n",
       "27  0.53  0.37  0.11  0.20  0.58  0.64  0.35  0.21  0.23  0.25  0.30  0.30   \n",
       "32  0.77  0.72  0.29  0.17  0.31  0.42  0.80  0.21  0.27  0.38  0.23  0.20   \n",
       "37  0.73  0.65  0.61  0.35  0.20  0.24  0.47  0.76  0.47  0.29  0.18  0.11   \n",
       "42  0.38  0.59  0.58  0.47  0.27  0.29  0.25  0.49  0.45  0.40  0.12  0.19   \n",
       "47  0.22  0.23  0.22  0.34  0.46  0.29  0.17  0.17  0.35  0.58  0.15  0.19   \n",
       "52  0.26  0.21  0.14  0.17  0.22  0.17  0.15  0.14  0.19  0.27  0.33  0.35   \n",
       "57  0.22  0.12  0.10  0.10  0.14  0.22  0.13  0.21  0.05  0.25  0.17  0.52   \n",
       "62  0.22  0.15  0.10  0.10  0.10  0.14  0.15  0.20  0.19  0.13  0.09  0.24   \n",
       "67  0.05  0.08  0.07  0.08  0.07  0.12  0.08  0.16  0.11  0.04  0.05  0.07   \n",
       "72  0.09  0.09  0.10  0.08  0.19  0.10  0.05  0.13  0.24  0.29  0.23  0.22   \n",
       "\n",
       "      62    67    72  \n",
       "2   0.18  0.26  0.07  \n",
       "7   0.41  0.30  0.07  \n",
       "12  0.17  0.26  0.17  \n",
       "17  0.09  0.26  0.37  \n",
       "22  0.11  0.15  0.00  \n",
       "27  0.20  0.04  0.03  \n",
       "32  0.23  0.15  0.07  \n",
       "37  0.32  0.04  0.03  \n",
       "42  0.23  0.15  0.30  \n",
       "47  0.14  0.11  0.20  \n",
       "52  0.20  0.04  0.07  \n",
       "57  0.32  0.44  0.10  \n",
       "62  0.27  0.30  0.13  \n",
       "67  0.17  0.37  0.43  \n",
       "72  0.11  0.22  0.70  "
      ]
     },
     "execution_count": 557,
     "metadata": {},
     "output_type": "execute_result"
    }
   ],
   "source": [
    "full_data = pd.read_csv(\"data/contact_data.csv\", index_col=0)\n",
    "full_data"
   ]
  },
  {
   "cell_type": "code",
   "execution_count": 558,
   "metadata": {},
   "outputs": [],
   "source": [
    "age_range = [2,7,12,17,22,27,32,37,42,47, 52,57,62,67,\"70+\"]"
   ]
  },
  {
   "cell_type": "code",
   "execution_count": 559,
   "metadata": {
    "scrolled": true
   },
   "outputs": [
    {
     "data": {
      "text/plain": [
       "<matplotlib.image.AxesImage at 0x140c414e9b0>"
      ]
     },
     "execution_count": 559,
     "metadata": {},
     "output_type": "execute_result"
    },
    {
     "data": {
      "image/png": "[encoded data removed]",
      "text/plain": [
       "<Figure size 432x288 with 1 Axes>"
      ]
     },
     "metadata": {
      "needs_background": "light"
     },
     "output_type": "display_data"
    }
   ],
   "source": [
    "full_data = full_data.values\n",
    "plt.imshow(full_data, cmap = \"Blues_r\")"
   ]
  },
  {
   "cell_type": "code",
   "execution_count": 560,
   "metadata": {},
   "outputs": [
    {
     "data": {
      "image/png": "[encoded data removed]",
      "text/plain": [
       "<Figure size 432x288 with 2 Axes>"
      ]
     },
     "metadata": {
      "needs_background": "light"
     },
     "output_type": "display_data"
    }
   ],
   "source": [
    "plt.imshow(full_data, interpolation=\"nearest\")\n",
    "x = np.arange(0,15,1) # the grid to which your data corresponds\n",
    "nx = x.shape[0]\n",
    "no_labels = 7 # how many labels to see on axis x\n",
    "step_x = int(nx / (no_labels - 1)) # step between consecutive labels\n",
    "x_positions = np.arange(-0.5,nx - 0.5,step_x) # pixel count at label position\n",
    "x_labels = x[::step_x] # labels you want to see\n",
    "\n",
    "final_labels = []\n",
    "for idx in x_labels.astype(int):\n",
    "    if idx == 15:\n",
    "        final_labels.append(age_range[idx - 1])\n",
    "    else:\n",
    "        final_labels.append(age_range[idx])\n",
    "plt.xticks(x_positions, final_labels)\n",
    "plt.yticks(x_positions, final_labels)\n",
    "plt.xlabel(\"Average Age\", fontsize = 14)\n",
    "plt.ylabel(\"Average Age\", fontsize = 14)\n",
    "plt.title(\"Contact Matrix, $B_{i,j}$, Age Stratified\", fontsize = 16)\n",
    "plt.xticks(fontsize=12, rotation=0)\n",
    "plt.yticks(fontsize=12, rotation=0)\n",
    "cbar = plt.colorbar()\n",
    "cbar.ax.tick_params(labelsize=14)\n",
    "\n",
    "#plt.savefig(\"imgs/contract_rate_matrix.pdf\", bbox_inches = \"tight\")"
   ]
  },
  {
   "cell_type": "code",
   "execution_count": 493,
   "metadata": {},
   "outputs": [],
   "source": [
    "data = full_data"
   ]
  },
  {
   "cell_type": "code",
   "execution_count": 536,
   "metadata": {},
   "outputs": [],
   "source": [
    "# aggregate to less granular level -  not used\n",
    "\n",
    "# tempdata = np.zeros((5,15))\n",
    "\n",
    "# #bins = [12, 27, 42, 57, 72]\n",
    "# bins = [2, 5, 8, 11, 14]\n",
    "# count = 0\n",
    "# for i in bins:\n",
    "#     tempdata[count, :] = np.mean((full_data[i], full_data[i - 1], full_data[i -2] ), axis = 0)\n",
    "#     count+=1\n",
    "    \n",
    "# tempdata\n",
    "\n",
    "# contact_data = np.zeros((5,5))\n",
    "    \n",
    "# cols = [2, 5, 8, 11, 14]\n",
    "# count = 0\n",
    "\n",
    "# for row in range(len(tempdata)):\n",
    "#     count  = 0\n",
    "#     for col in cols:\n",
    "#         contact_data[row, count] = np.mean((tempdata[row, col], tempdata[row, col -1], tempdata[row, col - 2]))\n",
    "#         count+=1\n",
    "        \n",
    "        \n",
    "# plt.imshow(contact_data, cmap = \"Blues_r\")"
   ]
  },
  {
   "cell_type": "markdown",
   "metadata": {},
   "source": [
    "## Defining other model parameters\n",
    "\n",
    "We need to define the following for the model:\n",
    "- The recovery rates of the fast and slow reporters.\n",
    "- The population of each type ( we assume the same population level for each type, which appears to be realistic, https://www.statista.com/statistics/281174/uk-population-by-age/)"
   ]
  },
  {
   "cell_type": "code",
   "execution_count": 542,
   "metadata": {},
   "outputs": [],
   "source": [
    "# Slow reporters (gamma_1)\n",
    "\n",
    "gamma_1 = 0.5\n",
    "\n",
    "# Fast Reporters (gamma_2)\n",
    "\n",
    "gamma_2 = 0.8\n",
    "\n",
    "gamma = [gamma_1]*len(data) + [gamma_2]*len(data) # recovery rates for the 10 different types"
   ]
  },
  {
   "cell_type": "code",
   "execution_count": 543,
   "metadata": {},
   "outputs": [],
   "source": [
    "# generating the next generation matrix K\n",
    "\n",
    "K = np.zeros((len(data)*2,len(data)*2))\n",
    "\n",
    "for i in range(len(K)):\n",
    "    for j in range(len(K)):\n",
    "        K[i,j] = data[i % len(data),j % len(data)] / gamma[j] "
   ]
  },
  {
   "cell_type": "code",
   "execution_count": 561,
   "metadata": {},
   "outputs": [
    {
     "data": {
      "image/png": "[encoded data removed]",
      "text/plain": [
       "<Figure size 432x288 with 1 Axes>"
      ]
     },
     "metadata": {
      "needs_background": "light"
     },
     "output_type": "display_data"
    }
   ],
   "source": [
    "plt.imshow(K, interpolation=\"none\", extent=[0,30,30,0])\n",
    "plt.title(\"Next Generation Matrix, $\\\\textbf{K}$\", fontsize = 16)\n",
    "\n",
    "\n",
    "x = np.arange(0,31,1) # the grid to which your data corresponds\n",
    "nx = x.shape[0]\n",
    "no_labels = 10 # how many labels to see on axis x\n",
    "step_x = int(nx / (no_labels - 1)) # step between consecutive labels\n",
    "x_positions = np.arange(0,nx,step_x) # pixel count at label position\n",
    "x_labels = x[::step_x] # labels you want to see\n",
    "x_labels = x_labels % 15\n",
    "x_labels[5] = 15\n",
    "x_labels[10] = 15\n",
    "\n",
    "final_labels = []\n",
    "for idk in x_labels:\n",
    "    if idk == 15:\n",
    "        final_labels.append(age_range[idk -1])\n",
    "    else:\n",
    "        final_labels.append(age_range[idk])\n",
    "\n",
    "plt.xticks(x_positions, final_labels, fontsize = 12)\n",
    "plt.yticks(x_positions, final_labels, fontsize = 12)\n",
    "plt.ylabel(\"Age $\\qquad \\qquad \\qquad  \\qquad \\quad$ Age\")\n",
    "plt.xlabel(\"Age $\\qquad \\qquad \\qquad  \\qquad \\quad$ Age\")\n",
    "\n",
    "#plt.savefig(\"imgs/next_gen_matrix.png\", dpi = 600, bbox_inches = \"tight\")"
   ]
  },
  {
   "cell_type": "markdown",
   "metadata": {},
   "source": [
    "### Finding the $\\mathcal{R}_0$ of the model and eigenvalue decomposition."
   ]
  },
  {
   "cell_type": "code",
   "execution_count": 545,
   "metadata": {},
   "outputs": [],
   "source": [
    "import scipy.linalg\n",
    "\n",
    "values, left, right = scipy.linalg.eig(K, right = True, left = True)\n",
    "\n",
    "values = np.abs(values)\n",
    "\n",
    "# finding eigenvectors corresponding to largest eval\n",
    "lam = values[0]\n",
    "lvec = left[:, 0]\n",
    "rvec = right[:, 0]"
   ]
  },
  {
   "cell_type": "code",
   "execution_count": 546,
   "metadata": {},
   "outputs": [
    {
     "data": {
      "text/plain": [
       "array([1.61091323e+01, 4.85096874e+00, 4.85096874e+00, 3.08542245e+00,\n",
       "       1.67777730e+00, 1.47324012e+00, 1.47324012e+00, 1.17292964e+00,\n",
       "       9.59011312e-01, 9.59011312e-01, 6.88101872e-01, 3.87433784e-01,\n",
       "       3.87433784e-01, 2.60638428e-01, 1.11981802e-01, 3.59112222e-16,\n",
       "       3.16622533e-16, 3.16622533e-16, 1.89127395e-16, 1.89127395e-16,\n",
       "       1.39586372e-16, 9.76917161e-17, 1.00574144e-16, 7.59739866e-17,\n",
       "       7.59739866e-17, 5.95954100e-17, 5.95954100e-17, 2.73320115e-17,\n",
       "       2.73320115e-17, 3.05862567e-17])"
      ]
     },
     "execution_count": 546,
     "metadata": {},
     "output_type": "execute_result"
    }
   ],
   "source": [
    "values"
   ]
  },
  {
   "cell_type": "code",
   "execution_count": 547,
   "metadata": {},
   "outputs": [
    {
     "data": {
      "text/plain": [
       "[<matplotlib.lines.Line2D at 0x140c2bba470>]"
      ]
     },
     "execution_count": 547,
     "metadata": {},
     "output_type": "execute_result"
    },
    {
     "data": {
      "image/png": "[encoded data removed]",
      "text/plain": [
       "<Figure size 432x288 with 1 Axes>"
      ]
     },
     "metadata": {
      "needs_background": "light"
     },
     "output_type": "display_data"
    }
   ],
   "source": [
    "plt.plot(values)"
   ]
  },
  {
   "cell_type": "markdown",
   "metadata": {},
   "source": [
    "### Type and Contact Importance"
   ]
  },
  {
   "cell_type": "code",
   "execution_count": 548,
   "metadata": {},
   "outputs": [],
   "source": [
    "def type_importance(K, lam, lvec, rvec):\n",
    "    arr = []\n",
    "    norm = lvec.dot(rvec)\n",
    "    for i in range(len(lvec)):\n",
    "        arr.append((rvec[i]*lvec[i]) / (norm - lvec[i]*rvec[i]))\n",
    "    return arr\n",
    "    "
   ]
  },
  {
   "cell_type": "code",
   "execution_count": 549,
   "metadata": {},
   "outputs": [],
   "source": [
    "I_type = type_importance(K, lam, lvec, rvec)"
   ]
  },
  {
   "cell_type": "code",
   "execution_count": 562,
   "metadata": {},
   "outputs": [
    {
     "data": {
      "image/png": "[encoded data removed]",
      "text/plain": [
       "<Figure size 432x288 with 1 Axes>"
      ]
     },
     "metadata": {
      "needs_background": "light"
     },
     "output_type": "display_data"
    }
   ],
   "source": [
    "plt.scatter(range(len(I_type))[:len(data)], I_type[len(data):], marker = \"o\", facecolors = \"none\", edgecolors = \"mediumslateblue\", linewidth = 1.5)\n",
    "plt.scatter(range(len(I_type))[:len(data)], I_type[:len(data)], color = \"teal\")\n",
    "plt.title(\"Infectious Type Importance, $\\mathcal{I}_k$\", fontsize = 17)\n",
    "plt.ylabel(\"Importance\", fontsize  = 14)\n",
    "plt.xlabel(\"Type (Average Age)\", fontsize = 14)\n",
    "plt.yticks(fontsize = 13)\n",
    "\n",
    "x = np.arange(0,15,1) # the grid to which your data corresponds\n",
    "nx = x.shape[0]\n",
    "no_labels = 9 # how many labels to see on axis x\n",
    "step_x = int(nx / (no_labels - 1)) # step between consecutive labels\n",
    "x_positions = np.arange(-0,nx - 0.5,step_x) # pixel count at label position\n",
    "x_labels = x[::step_x] # labels you want to see\n",
    "\n",
    "final_labels = []\n",
    "for idx in x_labels.astype(int):\n",
    "    final_labels.append(age_range[idx])\n",
    "plt.xticks(x_positions, final_labels, fontsize = 12)\n",
    "\n",
    "plt.legend([\"Fast Reporters\", \"Slow Reporters\"])\n",
    "\n",
    "#plt.savefig(\"imgs/infectious_type.pdf\", bbox_inches = \"tight\")"
   ]
  },
  {
   "cell_type": "code",
   "execution_count": 551,
   "metadata": {},
   "outputs": [
    {
     "data": {
      "text/plain": [
       "[2, 7, 12, 17, 22, 27, 32, 37, 42, 47, 52, 57, 62, 67, '70+']"
      ]
     },
     "execution_count": 551,
     "metadata": {},
     "output_type": "execute_result"
    }
   ],
   "source": [
    "age_range"
   ]
  },
  {
   "cell_type": "code",
   "execution_count": 552,
   "metadata": {},
   "outputs": [],
   "source": [
    "def contact_importance(K, lam, lvec, rvec):\n",
    "    norm = lvec.dot(rvec)\n",
    "    I = np.zeros((len(K), len(K))) # K must be square matrix\n",
    "    for i in range(len(I)):\n",
    "        for j in range(len(I)):\n",
    "            I[i,j] = K[i,j]*lvec[i]*rvec[j]/(lam * norm)\n",
    "            \n",
    "    return I"
   ]
  },
  {
   "cell_type": "code",
   "execution_count": 553,
   "metadata": {},
   "outputs": [
    {
     "name": "stderr",
     "output_type": "stream",
     "text": [
      "C:\\Anaconda3\\lib\\site-packages\\ipykernel_launcher.py:6: ComplexWarning: Casting complex values to real discards the imaginary part\n",
      "  \n"
     ]
    }
   ],
   "source": [
    "I_contact = contact_importance(K, lam, lvec, rvec)"
   ]
  },
  {
   "cell_type": "code",
   "execution_count": 564,
   "metadata": {},
   "outputs": [
    {
     "data": {
      "image/png": "[encoded data removed]",
      "text/plain": [
       "<Figure size 432x288 with 2 Axes>"
      ]
     },
     "metadata": {
      "needs_background": "light"
     },
     "output_type": "display_data"
    }
   ],
   "source": [
    "plt.imshow(I_contact)\n",
    "x = np.arange(0,31,1) # the grid to which your data corresponds\n",
    "nx = x.shape[0]\n",
    "no_labels = 10 # how many labels to see on axis x\n",
    "step_x = int(nx / (no_labels - 1)) # step between consecutive labels\n",
    "x_positions = np.arange(-0.5,nx -0.5,step_x) # pixel count at label position\n",
    "x_labels = x[::step_x] # labels you want to see\n",
    "x_labels = x_labels % 15\n",
    "x_labels[5] = 15\n",
    "x_labels[10] = 15\n",
    "\n",
    "final_labels = []\n",
    "for idk in x_labels:\n",
    "    if idk == 15:\n",
    "        final_labels.append(age_range[idk -1])\n",
    "    else:\n",
    "        final_labels.append(age_range[idk])\n",
    "\n",
    "plt.xticks(x_positions, final_labels, fontsize = 12)\n",
    "plt.yticks(x_positions, final_labels, fontsize = 12)\n",
    "\n",
    "plt.title(\"Contact Importance, $\\mathcal{I}_{i,j}$\", fontsize = 17)\n",
    "cbar = plt.colorbar()\n",
    "cbar.ax.tick_params(labelsize=14)\n",
    "#plt.savefig(\"imgs/contact_importance_png_version.png\", dpi=600)"
   ]
  },
  {
   "cell_type": "code",
   "execution_count": 555,
   "metadata": {},
   "outputs": [],
   "source": [
    "I_1 = I_contact[:7, :7]\n",
    "\n",
    "\n",
    "I_2 = I_contact[15:22, 15:22]\n"
   ]
  },
  {
   "cell_type": "code",
   "execution_count": 563,
   "metadata": {},
   "outputs": [
    {
     "name": "stderr",
     "output_type": "stream",
     "text": [
      "C:\\Anaconda3\\lib\\site-packages\\ipykernel_launcher.py:47: UserWarning: This figure includes Axes that are not compatible with tight_layout, so results might be incorrect.\n"
     ]
    },
    {
     "data": {
      "image/png": "[encoded data removed]",
      "text/plain": [
       "<Figure size 432x288 with 3 Axes>"
      ]
     },
     "metadata": {
      "needs_background": "light"
     },
     "output_type": "display_data"
    }
   ],
   "source": [
    "import matplotlib.colors as colors\n",
    "import matplotlib\n",
    "import copy\n",
    "\n",
    "\n",
    "fig, (ax1, ax2) = plt.subplots(1,2)\n",
    "\n",
    "\n",
    "\n",
    "colormap = matplotlib.cm.viridis #or any other colormap\n",
    "normalize = matplotlib.colors.Normalize(vmin=np.min(I_1), vmax= np.max(I_1))\n",
    "im1 = ax1.imshow(I_1, cmap=colormap, norm=normalize)\n",
    "\n",
    "\n",
    "ax1.set_title(\"$R_S$ Subset\", fontsize = 16)\n",
    "ax1.set_xlabel(\"Type / Average Age\", fontsize = 14)\n",
    "ax1.set_ylabel(\"Type / Average Age\", fontsize = 14)\n",
    "\n",
    "\n",
    "ax2.imshow(I_2, cmap=colormap, norm=normalize)\n",
    "ax2.set_title(\"$R_F$ Subset\", fontsize = 16)\n",
    "ax2.set_xlabel(\"Type / Average Age\", fontsize = 14)\n",
    "ax2.set_ylabel(\"Type / Average Age\", fontsize = 14)\n",
    "\n",
    "\n",
    "cbar_ax = fig.add_axes([1.0, 0.2, 0.04, 0.6])\n",
    "cbar = plt.colorbar(im1, cax = cbar_ax)\n",
    "cbar.ax.tick_params(labelsize=14) \n",
    "\n",
    "\n",
    "final_labels = [2, 7, 12, 17, 22, 27, 32]\n",
    "locs = ax1.get_yticks()\n",
    "\n",
    "\n",
    "ax1.set_xticklabels( final_labels, fontsize = 12)\n",
    "\n",
    "ax1.set_xticks(locs[1:-1])\n",
    "\n",
    "ax1.set_yticklabels([\"\"] + final_labels, fontsize = 12)\n",
    "\n",
    "ax2.set_xticklabels( final_labels, fontsize = 12)\n",
    "\n",
    "ax2.set_xticks(locs[1:-1])\n",
    "\n",
    "ax2.set_yticklabels([\"\"] + final_labels, fontsize = 12)\n",
    "\n",
    "plt.tight_layout()\n",
    "\n",
    "#plt.savefig(\"imgs/contact_importance_subset_plot.pdf\", bbox_inches = \"tight\")"
   ]
  },
  {
   "cell_type": "markdown",
   "metadata": {},
   "source": [
    "### Second Example: Self-Generated Data"
   ]
  },
  {
   "cell_type": "code",
   "execution_count": 407,
   "metadata": {},
   "outputs": [
    {
     "data": {
      "image/png": "[encoded data removed]",
      "text/plain": [
       "<Figure size 432x288 with 1 Axes>"
      ]
     },
     "metadata": {
      "needs_background": "light"
     },
     "output_type": "display_data"
    }
   ],
   "source": [
    "# defining all parameters\n",
    "\n",
    "states = [0,1,2,3,4,5,6,7]\n",
    "average_transmission = [0.9, 1.3, 1.4, 1.2, 1.1, 0.85, 0.8, 0.68]\n",
    "mu = [1]*8\n",
    "Lambda = [1]*8\n",
    "Lambda[0] = 1.2\n",
    "gamma = 0.8 + 0.4*np.random.rand(8)\n",
    "\n",
    "# disease-free state values\n",
    "s_dfs = [0]*8\n",
    "for i in range(len(s_dfs)):\n",
    "    s_dfs[i] = Lambda[i] / mu[i]\n",
    "\n",
    "\n",
    "plt.title(\"Average Transmission Rates\")\n",
    "plt.ylabel(\"$B_i$\")\n",
    "plt.xlabel(\"State\")\n",
    "plt.plot(states, average_transmission)\n",
    "plt.show()"
   ]
  },
  {
   "cell_type": "code",
   "execution_count": 408,
   "metadata": {},
   "outputs": [],
   "source": [
    "# generating the actual transmission rates\n",
    "# sampling from a normal distribution w/ mean of the transmisson rates and a std of 0.1.\n",
    "\n",
    "B = np.zeros((8,8))\n",
    "for i in range(8):\n",
    "    mean = average_transmission[i]\n",
    "    for j in range(8):\n",
    "        B[j,i] = 0.05*np.random.randn() + mean"
   ]
  },
  {
   "cell_type": "code",
   "execution_count": 409,
   "metadata": {},
   "outputs": [
    {
     "data": {
      "image/png": "[encoded data removed]",
      "text/plain": [
       "<Figure size 432x288 with 2 Axes>"
      ]
     },
     "metadata": {
      "needs_background": "light"
     },
     "output_type": "display_data"
    }
   ],
   "source": [
    "plt.imshow(B)\n",
    "plt.colorbar()\n",
    "plt.show()"
   ]
  },
  {
   "cell_type": "markdown",
   "metadata": {},
   "source": [
    "### Next Generation Matrix\n",
    "\n",
    "We obtain the next generation matrix $\\textbf{G}$ by first constructing two matrices $\\textbf{T}$ and $\\mathbf{\\Sigma}$ so that\n",
    "$$\n",
    "\\dot{\\textbf{x}} = (\\textbf{T} + \\mathbf{\\Sigma})\\textbf{x}, \\quad \\text{where } \\textbf{x} = (I_1, I_2, ..., I_n)^T.\n",
    "$$\n",
    "The matrix $\\textbf{T}$ represents terms in the ODE system that contribute to the disease transmission; in our example\n",
    "$$\n",
    "\\textbf{T} = \\begin{bmatrix} \n",
    "    B_{11}S_1^* & B_{12} S_{1}^* & \\dots & B_{1n} S_{1}^*\\\\\n",
    "    \\vdots & \\ddots & & \\vdots \\\\\n",
    "    B_{n1} S_n^* &  \\dots  &    & B_{nn} S_n^* \n",
    "    \\end{bmatrix}.\n",
    "$$\n",
    "Likewise, the matrix $\\mathbf{\\Sigma}$ represents all non-disease related transmissions within the infectious sub-system. In our example, this is\n",
    "$$\n",
    "\\mathbf{\\Sigma} = \\begin{bmatrix} \n",
    "    -(\\gamma_1 + \\mu_1) & 0 & \\dots & 0\\\\\n",
    "    0 & -(\\gamma_2 + \\mu_2) & \\dots & 0 \\\\\n",
    "    \\vdots & \\ddots & & \\vdots \\\\\n",
    "    0 &  \\dots  &    & -(\\gamma_n + \\mu_n) \\\\\n",
    "    \\end{bmatrix}.\n",
    "$$\n",
    "\n",
    "Using the fact that $\\textbf{G} = -\\textbf{T}\\mathbf{\\Sigma}^{-1}$, we have the next generation matrix:\n",
    "$$\n",
    "\\textbf{G} = \\begin{bmatrix} \n",
    "    \\frac{B_{11}S_1^*}{\\gamma_1 + \\mu_1} & \\frac{B_{12}S_1^*}{\\gamma_2 + \\mu_2} & \\dots & \\frac{B_{1n}S_1^*}{\\gamma_n + \\mu_n}\\\\\n",
    "    \\vdots & \\ddots & & \\vdots \\\\\n",
    "    \\frac{B_{n1}S_n^*}{\\gamma_1 + \\mu_1} &  \\dots  &    & \\frac{B_{nn}S_n^*}{\\gamma_n + \\mu_n} \n",
    "    \\end{bmatrix}.\n",
    "$$"
   ]
  },
  {
   "cell_type": "code",
   "execution_count": 410,
   "metadata": {},
   "outputs": [],
   "source": [
    "T = np.zeros((8,8))\n",
    "Sigma = np.zeros((8,8))\n",
    "\n",
    "for i in range(8):\n",
    "    for j in range(8):\n",
    "        T[i,j] = B[i,j]*s_dfs[i]\n",
    "        if i ==j:\n",
    "            Sigma[i,j] = -(gamma[i] + mu[i])\n",
    "            \n",
    "G = -T.dot(np.linalg.inv(Sigma))"
   ]
  },
  {
   "cell_type": "markdown",
   "metadata": {},
   "source": [
    "### Infective State Importance\n",
    "\n",
    "By computing eigenvectors and the largest eigenvalue of $\\textbf{G}$, we can find an approximation to the importance of each infectious state."
   ]
  },
  {
   "cell_type": "code",
   "execution_count": 411,
   "metadata": {},
   "outputs": [],
   "source": [
    "import scipy.linalg\n",
    "\n",
    "values, left, right = scipy.linalg.eig(G, right = True, left = True)\n",
    "\n",
    "values = np.abs(values)"
   ]
  },
  {
   "cell_type": "code",
   "execution_count": 412,
   "metadata": {},
   "outputs": [
    {
     "name": "stdout",
     "output_type": "stream",
     "text": [
      "The Largest Eigenvalue of the Matrix is: 4.16\n"
     ]
    },
    {
     "data": {
      "image/png": "[encoded data removed]",
      "text/plain": [
       "<Figure size 432x288 with 1 Axes>"
      ]
     },
     "metadata": {
      "needs_background": "light"
     },
     "output_type": "display_data"
    }
   ],
   "source": [
    "# l_e-  largest eigenvalue\n",
    "# lvec - corresponding left eigenvector\n",
    "# rvec - corresponding right eigenvector\n",
    "l_e = values[0]\n",
    "lvec = left[:, 0]\n",
    "rvec = right[:, 0]\n",
    "\n",
    "print(\"The Largest Eigenvalue of the Matrix is: \" + str(np.round(l_e,2)))\n",
    "plt.plot(values)\n",
    "plt.title(\"Eigenvalues of G\")\n",
    "plt.show()"
   ]
  },
  {
   "cell_type": "code",
   "execution_count": 413,
   "metadata": {},
   "outputs": [
    {
     "name": "stdout",
     "output_type": "stream",
     "text": [
      "Relative Importance of Infectious nodes for contribution to R_0:\n",
      "I_1 = 0.14\n",
      "I_2 = 0.17\n",
      "I_3 = 0.22\n",
      "I_4 = 0.15\n",
      "I_5 = 0.16\n",
      "I_6 = 0.11\n",
      "I_7 = 0.11\n",
      "I_8 = 0.09\n"
     ]
    }
   ],
   "source": [
    "# finding the important of each state from the eigenvalues and eigenvectors\n",
    "\n",
    "imp_list = []\n",
    "norm = abs(lvec.dot(rvec))\n",
    "print(\"Relative Importance of Infectious nodes for contribution to R_0:\")\n",
    "for i in range(len(lvec)):\n",
    "    imp = np.real(rvec[i]*lvec[i] / (norm - rvec[i]*lvec[i]))\n",
    "    imp_list.append(imp)\n",
    "    print(\"I_{}\".format(i+1) + \" = \" + str(np.round(imp,2)))"
   ]
  },
  {
   "cell_type": "code",
   "execution_count": 414,
   "metadata": {},
   "outputs": [
    {
     "data": {
      "text/plain": [
       "Text(0.5, 0, 'Infectious node $\\\\mathcal{I}_k$')"
      ]
     },
     "execution_count": 414,
     "metadata": {},
     "output_type": "execute_result"
    },
    {
     "data": {
      "image/png": "[encoded data removed]",
      "text/plain": [
       "<Figure size 432x288 with 1 Axes>"
      ]
     },
     "metadata": {
      "needs_background": "light"
     },
     "output_type": "display_data"
    }
   ],
   "source": [
    "plt.plot(imp_list)\n",
    "plt.ylabel(\"Dynamical Importance\")\n",
    "plt.xlabel(\"Infectious node $\\mathcal{I}_k$\", fontsize = 15)\n",
    "#plt.savefig(\"node_importance.pdf\", bbox_inches = \"tight\")"
   ]
  },
  {
   "cell_type": "markdown",
   "metadata": {},
   "source": [
    "### Importance Matrix of the Contacts between the members of the population"
   ]
  },
  {
   "cell_type": "code",
   "execution_count": 415,
   "metadata": {},
   "outputs": [
    {
     "name": "stderr",
     "output_type": "stream",
     "text": [
      "C:\\Anaconda3\\lib\\site-packages\\ipykernel_launcher.py:4: ComplexWarning: Casting complex values to real discards the imaginary part\n",
      "  after removing the cwd from sys.path.\n"
     ]
    }
   ],
   "source": [
    "I = np.zeros((8,8))\n",
    "for i in range(8):\n",
    "    for j in range(8):\n",
    "        I[i,j] = G[i,j]*lvec[i]*rvec[j] / (l_e*norm)"
   ]
  },
  {
   "cell_type": "code",
   "execution_count": 416,
   "metadata": {},
   "outputs": [
    {
     "data": {
      "text/plain": [
       "Text(0, 0.5, 'States, $i$')"
      ]
     },
     "execution_count": 416,
     "metadata": {},
     "output_type": "execute_result"
    },
    {
     "data": {
      "image/png": "[encoded data removed]",
      "text/plain": [
       "<Figure size 432x288 with 2 Axes>"
      ]
     },
     "metadata": {
      "needs_background": "light"
     },
     "output_type": "display_data"
    }
   ],
   "source": [
    "plt.imshow(I)\n",
    "plt.colorbar()\n",
    "plt.locator_params(axis='x', nbins=8)\n",
    "plt.xlabel(\"States, $j$\", fontsize = 12)\n",
    "plt.ylabel(\"States, $i$\", fontsize = 12)\n",
    "#plt.savefig(\"edge_importance.pdf\", bbox_inches = \"tight\")"
   ]
  },
  {
   "cell_type": "markdown",
   "metadata": {},
   "source": [
    "### Extension, Male and Female Seperation without a Contact Matrix"
   ]
  },
  {
   "cell_type": "code",
   "execution_count": 26,
   "metadata": {},
   "outputs": [],
   "source": [
    "# defining all parameters\n",
    "\n",
    "states = list(range(16))\n",
    "average_transmission = [0.9, 1.3, 1.4, 1.2, 1.1, 0.85, 0.8, 0.68]*2\n",
    "mu = [1]*16\n",
    "Lambda = [1]*16\n",
    "Lambda[0] = 1.2\n",
    "Lambda[8] = 1.2\n",
    "gamma_1 = 0.9 + 0.4*np.random.rand(8) # slow responders\n",
    "gamma_2 = 0.6 + 0.2*np.random.rand(8) # fast responders\n",
    "\n",
    "gamma = np.concatenate((gamma_1, gamma_2))\n",
    "# disease-free state values\n",
    "s_dfs = [0]*16\n",
    "for i in range(len(s_dfs)):\n",
    "    s_dfs[i] = Lambda[i] / gamma[i]\n",
    "\n",
    "\n",
    "# plt.title(\"Average Transmission Rates\")\n",
    "# plt.ylabel(\"B_i\")\n",
    "# plt.xlabel(\"State\")\n",
    "# plt.plot(states, average_transmission)\n",
    "# plt.show()"
   ]
  },
  {
   "cell_type": "code",
   "execution_count": 27,
   "metadata": {},
   "outputs": [
    {
     "data": {
      "image/png": "[encoded data removed]",
      "text/plain": [
       "<Figure size 432x288 with 2 Axes>"
      ]
     },
     "metadata": {
      "needs_background": "light"
     },
     "output_type": "display_data"
    }
   ],
   "source": [
    "# generating the actual transmission rates\n",
    "# sampling from a normal distribution w/ mean of the transmisson rates and a std of 0.1.\n",
    "\n",
    "B = np.zeros((16,16))\n",
    "for i in range(16):\n",
    "    mean = average_transmission[i]\n",
    "    for j in range(16):\n",
    "        B[j,i] = 0.05*np.random.randn() + mean\n",
    "        \n",
    "plt.imshow(B)\n",
    "plt.colorbar()\n",
    "plt.show()"
   ]
  },
  {
   "cell_type": "code",
   "execution_count": 28,
   "metadata": {},
   "outputs": [],
   "source": [
    "# Generating the Next Generation Matrix\n",
    "\n",
    "T = np.zeros((16,16))\n",
    "Sigma = np.zeros((16,16))\n",
    "\n",
    "for i in range(16):\n",
    "    for j in range(16):\n",
    "        T[i,j] = B[i,j]*s_dfs[i]\n",
    "        if i ==j:\n",
    "            Sigma[i,j] = -(gamma[i] + mu[i])\n",
    "            \n",
    "G = -T.dot(np.linalg.inv(Sigma))"
   ]
  },
  {
   "cell_type": "code",
   "execution_count": 29,
   "metadata": {},
   "outputs": [
    {
     "name": "stdout",
     "output_type": "stream",
     "text": [
      "The Largest Eigenvalue of the Matrix is: 10.82\n"
     ]
    },
    {
     "data": {
      "image/png": "[encoded data removed]",
      "text/plain": [
       "<Figure size 432x288 with 1 Axes>"
      ]
     },
     "metadata": {
      "needs_background": "light"
     },
     "output_type": "display_data"
    }
   ],
   "source": [
    "import scipy.linalg\n",
    "\n",
    "values, left, right = scipy.linalg.eig(G, right = True, left = True)\n",
    "values = np.abs(values)\n",
    "\n",
    "# l_e-  largest eigenvalue\n",
    "# lvec - corresponding left eigenvector\n",
    "# rvec - corresponding right eigenvector\n",
    "l_e = values[0]\n",
    "lvec = left[:, 0]\n",
    "rvec = right[:, 0]\n",
    "\n",
    "print(\"The Largest Eigenvalue of the Matrix is: \" + str(np.round(l_e,2)))\n",
    "plt.plot(values)\n",
    "plt.title(\"Eigenvalues of ^G\")\n",
    "plt.show()"
   ]
  },
  {
   "cell_type": "code",
   "execution_count": 30,
   "metadata": {},
   "outputs": [
    {
     "name": "stdout",
     "output_type": "stream",
     "text": [
      "Relative Importance of Infectious nodes for contribution to R_0:\n",
      "I_1 = 0.05\n",
      "I_2 = 0.06\n",
      "I_3 = 0.06\n",
      "I_4 = 0.06\n",
      "I_5 = 0.06\n",
      "I_6 = 0.04\n",
      "I_7 = 0.03\n",
      "I_8 = 0.02\n",
      "I_9 = 0.09\n",
      "I_10 = 0.11\n",
      "I_11 = 0.12\n",
      "I_12 = 0.09\n",
      "I_13 = 0.09\n",
      "I_14 = 0.08\n",
      "I_15 = 0.06\n",
      "I_16 = 0.06\n"
     ]
    }
   ],
   "source": [
    "# finding the important of each state from the eigenvalues and eigenvectors\n",
    "\n",
    "imp_list = []\n",
    "norm = abs(lvec.dot(rvec))\n",
    "print(\"Relative Importance of Infectious nodes for contribution to R_0:\")\n",
    "for i in range(len(lvec)):\n",
    "    imp = np.real(rvec[i]*lvec[i] / (norm - rvec[i]*lvec[i]))\n",
    "    imp_list.append(imp)\n",
    "    print(\"I_{}\".format(i+1) + \" = \" + str(np.round(imp,2)))"
   ]
  },
  {
   "cell_type": "code",
   "execution_count": 31,
   "metadata": {},
   "outputs": [
    {
     "data": {
      "text/plain": [
       "<matplotlib.legend.Legend at 0x1531c358da0>"
      ]
     },
     "execution_count": 31,
     "metadata": {},
     "output_type": "execute_result"
    },
    {
     "data": {
      "image/png": "[encoded data removed]",
      "text/plain": [
       "<Figure size 432x288 with 1 Axes>"
      ]
     },
     "metadata": {
      "needs_background": "light"
     },
     "output_type": "display_data"
    }
   ],
   "source": [
    "plt.plot(imp_list[:8])\n",
    "plt.ylabel(\"Dynamical Importance\")\n",
    "plt.xlabel(\"Infectious node I_k\")\n",
    "plt.plot(imp_list[8:])\n",
    "plt.legend([\"Male\", \"Female\"])"
   ]
  },
  {
   "cell_type": "code",
   "execution_count": 32,
   "metadata": {},
   "outputs": [
    {
     "name": "stderr",
     "output_type": "stream",
     "text": [
      "C:\\Anaconda3\\lib\\site-packages\\ipykernel_launcher.py:4: ComplexWarning: Casting complex values to real discards the imaginary part\n",
      "  after removing the cwd from sys.path.\n"
     ]
    },
    {
     "data": {
      "image/png": "[encoded data removed]",
      "text/plain": [
       "<Figure size 432x288 with 2 Axes>"
      ]
     },
     "metadata": {
      "needs_background": "light"
     },
     "output_type": "display_data"
    }
   ],
   "source": [
    "I = np.zeros((16,16))\n",
    "for i in range(16):\n",
    "    for j in range(16):\n",
    "        I[i,j] = G[i,j]*lvec[i]*rvec[j] / (l_e*norm)\n",
    "        \n",
    "plt.imshow(I)\n",
    "plt.colorbar()\n",
    "plt.show()"
   ]
  },
  {
   "cell_type": "code",
   "execution_count": null,
   "metadata": {},
   "outputs": [],
   "source": []
  }
 ],
 "metadata": {
  "kernelspec": {
   "display_name": "Python 3",
   "language": "python",
   "name": "python3"
  },
  "language_info": {
   "codemirror_mode": {
    "name": "ipython",
    "version": 3
   },
   "file_extension": ".py",
   "mimetype": "text/x-python",
   "name": "python",
   "nbconvert_exporter": "python",
   "pygments_lexer": "ipython3",
   "version": "3.6.6"
  }
 },
 "nbformat": 4,
 "nbformat_minor": 2
}
