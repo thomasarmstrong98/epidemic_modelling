{
 "cells": [
  {
   "cell_type": "code",
   "execution_count": 1,
   "metadata": {},
   "outputs": [],
   "source": [
    "import numpy as np\n",
    "import math\n",
    "import matplotlib.pyplot as plt\n",
    "import pandas as pd"
   ]
  },
  {
   "cell_type": "markdown",
   "metadata": {},
   "source": [
    "## Stochastic SIR Model - Two Groups\n",
    "\n",
    "In this notebook, we consider the stochastic SIR model with heterogeneity given by Nandi and Allen (2018). In there paper [1], they describe a heterogeneous population split into two groups. Each group has a susceptible, infective and recovered sub-population with unique transmition and recovery rates. Given in the form of ordinary differential equations (ODEs), the model can be written as\n",
    "\\begin{align}\n",
    "    &\\frac{dS_k}{dt} = - \\frac{S_k}{N}\\sum_{j=1}^{2}\\beta_{kj}I_j, \\\\\n",
    "    &\\frac{dI_k}{dt} = \\frac{S_k}{N}\\sum_{j=1}^{2}\\beta_{kj}I_j - \\gamma_k I_k, \\\\\n",
    "    &\\frac{dI_k}{dt} = \\gamma_k I_k, \\quad \\text{ for } k = 1,2.\n",
    "\\end{align}\n",
    "The model currently considered is simplistic, it considers a constant total population $N = N_1 + N_2$ as well constant populations of the two groups $N_j = S_k(t) + I_k(t) + R_k(t)$. In this notebook, we display some results regarding the basic reproductive rate $\\mathcal{R}_0$ of the disease for the general case, as well as the simplified cases presented in [1]. First, we generate the next generation matrix; to do so, we consider the states $I_1$ and $I_2$ since they are the only states responsible for spreading the disease. By calculating ht next generation matrix $FV^{-1}$ at the disease free equilibrium, we have that \n",
    "\n",
    "$$\n",
    "  FV^{-1}= \\left[\\begin{matrix}\\beta_{11}\\frac{N_1}{N}\\gamma_1^{-1}&\\beta_{12}\\frac{N_1}{N}\\gamma_2^{-1}\\\\\\beta_{21}\\frac{N_2}{N}\\gamma_1^{-1}&\\beta_{22}\\frac{N_2}{N}\\gamma_2^{-1}\\end{matrix}\\right], \\quad \\text{where the values } \\beta_{kj} > 0 \\text{ are the parameters defined in the original ODE model.}\n",
    "$$\n",
    "\n",
    "\\begin{equation}\n",
    "    \\mathcal{R} = \\frac{1}{2N} \\left[ \\frac{\\beta_{11}N_1}{\\gamma_1} + \\frac{\\beta_{22}N_2}{\\gamma_2}   \\right]\n",
    "\\end{equation)\n",
    "\n",
    "#### Basic Reproduction Rate - General\n",
    "We find the $\\mathcal{R}_0$ for this disease by calculating the spectral radius of our next generation matrix. The spectral radius the our general next generation matrix $FV^{-1}$ above is\n",
    "\n",
    "\\begin{equation}\n",
    "     \\mathcal{R}_0 = \\frac{1}{2N}\\{ \\frac{\\beta_{11}N_1}{\\gamma_1} + \\frac{\\beta_{22}N_2}{\\gamma_2}  + \\sqrt{(\\frac{\\beta_{11}N_1}{\\gamma_1} + \\frac{\\beta_{22}N_2}{\\gamma_2})^2 - 4\\frac{N_1N_2}{\\gamma_1\\gamma_2}(\\beta_{11}\\beta_{22} - \\beta_{12}\\beta_{21})} \\}\n",
    "\\end{equation}\n",
    "\n",
    "#### Basic Reproduction Rate - Simplifications\n",
    "In [1], they propose some simplifications to the contact rates $B_{jk}$ by assuming that it is seperable, where the transmission rates depend either on the infectivity group of the host, or the group of the susceptible individual. To model this assumption, we let $\\beta_{kj} = \\alpha_k\\lambda_j$ the product of infective and susceptible parameters. For a group depending in which the transmission of infection depends largely on the infectivity of the host, we have that $\\beta_{jk} = \\alpha_k\\lambda_j = \\beta_j^{I}$. Likewie for a model in which transmission depends on the susceptibilty of the host, we have $\\beta_{jk} = \\beta_k^{S}$.\n",
    "\n",
    "For the above transmission rate simplifications, we obtain basic reproductive rates of similar forms, since the $\\beta_{12}\\beta_{21}$ term in the square-root of (1) cancels with that of $\\beta_{11}\\beta_{22}$. The $\\mathcal{R}_0$ for both model simplifcations are \n",
    "\n",
    "\\begin{equation*}\n",
    "    \\text{(Infective dependent transmission)} \\quad \\mathcal{R}_{0} = \\frac{\\beta_1^I}{\\gamma_1}\\frac{N_1}{N} + \\frac{\\beta_2^I}{\\gamma_2}\\frac{N_2}{N}\n",
    "\\end{equation*}\n",
    "\\begin{equation*}\n",
    "    \\text{(Susceptible dependent transmission)} \\quad \\mathcal{R}_{0} = \\frac{\\beta_1^S}{\\gamma_1}\\frac{N_1}{N} + \\frac{\\beta_2^S}{\\gamma_2}\\frac{N_2}{N}\n",
    "\\end{equation*}\n",
    "\n",
    "\n",
    "##### References\n",
    "[1] - Nandi, Aadrita and Allen, Linda JS. Stochastic two-group models with transmission dependent on host infectivity or susceptibility. *Journal of biological dynamics*. 2019. Pgs 201 - 224."
   ]
  },
  {
   "cell_type": "markdown",
   "metadata": {},
   "source": [
    "### Simulations - $\\mathcal{R}_0$ = 2.38\n",
    "\n",
    "Using the parameters presented in the paper by Nandi and Allen [1]."
   ]
  },
  {
   "cell_type": "code",
   "execution_count": null,
   "metadata": {},
   "outputs": [],
   "source": [
    "def gillespie_algo(t_final, X_0, rates):\n",
    "    \n",
    "    \"\"\"\n",
    "    \n",
    "    Gillespie's Algorithm implementation for the specifc two-group model given by Nandi and Allen (2019).\n",
    "    \n",
    "    Inputs\n",
    "    -----------------------------------------------------------------------------------------------------\n",
    "    t_final - End the algorithm at time t_final\n",
    "    \n",
    "    X = [X[0], X[1], X[2], X[3], X[4], X[5]] where\n",
    "    X[0] - S_1\n",
    "    X[1] - S_2\n",
    "    X[0] - I_1\n",
    "    X[0] - I_2\n",
    "    X[0] - R_1\n",
    "    X[0] - R_2\n",
    "    \n",
    "    and rates = [r_1, r_2, r_3, r_4, r_5, r_6] with\n",
    "    r_1 = B_11\n",
    "    r_2 = B_12\n",
    "    r_3 = B_21\n",
    "    r_4 = B_22\n",
    "    r_5 = y_1\n",
    "    r_6 = y_2\n",
    "    \n",
    "    Returns\n",
    "    ----------------------------------------------------------------------------------------------------\n",
    "    t_hist - vector of cumulated waiting times between events\n",
    "    state_hist - array of the values of each state in the model, updated after every event in the sim.\n",
    "    \n",
    "    \"\"\"\n",
    "    \n",
    "    #import numpy as np\n",
    "    #import math\n",
    "    \n",
    "    def calc_a0(X, rates, N, return_all = True):\n",
    "        a1 = calc_a1(X, rates[0], N)\n",
    "        a2 = calc_a2(X, rates[1], N)\n",
    "        a3 = calc_a3(X, rates[2], N)\n",
    "        a4 = calc_a4(X, rates[3], N)\n",
    "        a5 = calc_a5(X, rates[4])\n",
    "        a6 = calc_a6(X, rates[5])\n",
    "        if return_all:\n",
    "            return a1+a2+a3+a4+a5+a6, [a1, a2, a3, a4, a5, a6]\n",
    "        else:\n",
    "            return a1+a2+a3+a4+a5+a6\n",
    "        \n",
    "    # propensity functions\n",
    "    \n",
    "    def calc_a1(X, rate, N):\n",
    "        if X[2] == 0:\n",
    "            return 0\n",
    "        else:\n",
    "            # transmition propensity: - S_1/N*(B_11 * I_1)\n",
    "            return (X[0]/N) *(rate*X[2])\n",
    "    \n",
    "    def calc_a2(X, rate, N):\n",
    "        if X[3] == 0:\n",
    "            return 0\n",
    "        else:\n",
    "            # transmition propensity: - S_1/N*(B_12 * I_2)\n",
    "            return (X[0]/N) *(rate*X[3])\n",
    "    \n",
    "    def calc_a3(X, rate, N):\n",
    "        if X[2] == 0:\n",
    "            return 0\n",
    "        else:\n",
    "            # transmition propensity: - S_2/N*(B_21 * I_1)\n",
    "            return (X[1]/N) *(rate*X[2])\n",
    "    \n",
    "    def calc_a4(X, rate, N):\n",
    "        if X[3] == 0:\n",
    "            return 0\n",
    "        else:\n",
    "            # transmition propensity: - S_2/N*(B_22 * I_2)\n",
    "            return (X[1]/N) *(rate*X[3])\n",
    "    \n",
    "    def calc_a5(X, rate):\n",
    "        if X[2] == 0:\n",
    "            return 0\n",
    "        else:\n",
    "            # recovery propensity: - y_1*I_1\n",
    "            return rate*X[2]\n",
    "    \n",
    "    def calc_a6(X, rate):\n",
    "        if X[3] == 0:\n",
    "            return 0\n",
    "        else:\n",
    "            # recovery propensity: - y_1*I_1\n",
    "            return rate*X[3]\n",
    "    \n",
    "    # changes to state space\n",
    "\n",
    "    def v1():\n",
    "        # transmition, S_1 + I_1 -> I_1 + I_1\n",
    "        return np.array((-1, 0, +1, 0, 0, 0))\n",
    "    \n",
    "    def v2():\n",
    "        # transmition, S_1 + I_2 -> I_2 + I_1\n",
    "        return np.array((-1, 0, +1, 0, 0, 0))\n",
    "    \n",
    "    def v3():\n",
    "        # transmition, S_2 + I_1 -> I_1 + I_2\n",
    "        return np.array((0, -1, 0, +1, 0, 0))\n",
    "    \n",
    "    def v4():\n",
    "        # transmition, S_2 + I_2 -> I_2 + I_2\n",
    "        return np.array((0, -1, 0, +1, 0, 0))\n",
    "    \n",
    "    def v5():\n",
    "        # recovery, I_1 -> R_1\n",
    "        return np.array((0, 0, -1, 0, +1, 0))\n",
    "    \n",
    "    def v6():\n",
    "        # recovery, I_2 -> R_2\n",
    "        return np.array((0, 0, 0, -1, 0, +1))\n",
    "    \n",
    "    N = np.sum(X_0)\n",
    "    \n",
    "    t = 0\n",
    "    state_hist = []\n",
    "    t_hist = []\n",
    "    \n",
    "    prop_fns = {0:v1, 1:v2, 2:v3, 3:v4, 4:v5, 5:v6}\n",
    "    \n",
    "    X = np.asarray(X_0)\n",
    "    \n",
    "    while t <= t_final:\n",
    "        # calculate a_0\n",
    "        a_0, a_list = calc_a0(X, rates, N)\n",
    "        if a_0 == 0:\n",
    "            break\n",
    "        # generate a reaction time\n",
    "        r1 = np.random.rand()\n",
    "        tau = math.log(1/r1) / (a_0)\n",
    "        t += tau\n",
    "        # choose a reaction\n",
    "        r2 = np.random.rand()\n",
    "        for idx in range(len(a_list)):\n",
    "            #print(\"a_i: \" + str(np.sum(a_list[:idx + 1])))\n",
    "            if r2*a_0 < np.sum(a_list[:idx +1]):\n",
    "                reaction_idx = idx\n",
    "                break\n",
    "            elif idx == (len(a_list) - 1):\n",
    "                reaction_idx = idx\n",
    "        # update state vector\n",
    "        X = X + prop_fns[reaction_idx]()\n",
    "        state_hist.append(X)\n",
    "        t_hist.append(t)\n",
    "    return t_hist, state_hist"
   ]
  },
  {
   "cell_type": "markdown",
   "metadata": {},
   "source": [
    "#### Infectivity dependent transmission"
   ]
  },
  {
   "cell_type": "code",
   "execution_count": 141,
   "metadata": {},
   "outputs": [
    {
     "name": "stdout",
     "output_type": "stream",
     "text": [
      "Completed in: 0.10866665840148926 seconds\n",
      "35.98868346123634\n"
     ]
    }
   ],
   "source": [
    "import time\n",
    "\n",
    "start = time.time()\n",
    "# using the default parameters in the paper by Nandi and Allen\n",
    "time_hist, state_hist = gillespie_algo(100, X_0 = [900, 100, 0, 1, 0, 0], rates = [0.2, 5, 0.2, 5, 0.5, 0.2])\n",
    "end = time.time()\n",
    "print(\"Completed in: \" +str(end - start) + \" seconds\")\n",
    "print(time_hist[-2])"
   ]
  },
  {
   "cell_type": "code",
   "execution_count": 142,
   "metadata": {},
   "outputs": [],
   "source": [
    "S_1 = [item[0] for item in state_hist]\n",
    "S_2 = [item[1] for item in state_hist]\n",
    "I_1 = [item[2] for item in state_hist]\n",
    "I_2 = [item[3] for item in state_hist]\n",
    "R_1 = [item[4] for item in state_hist]\n",
    "R_2 = [item[5] for item in state_hist]"
   ]
  },
  {
   "cell_type": "code",
   "execution_count": 143,
   "metadata": {},
   "outputs": [
    {
     "data": {
      "image/png": "[encoded data removed]",
      "text/plain": [
       "<Figure size 432x288 with 1 Axes>"
      ]
     },
     "metadata": {
      "needs_background": "light"
     },
     "output_type": "display_data"
    }
   ],
   "source": [
    "plt.plot(time_hist, I_1)\n",
    "plt.plot(time_hist, I_2)\n",
    "plt.legend([\"$I_1$\", \"$I_2$\"])\n",
    "plt.ylabel(\"Number of Infectives\")\n",
    "plt.xlabel(\"Time, t\")\n",
    "plt.show()"
   ]
  },
  {
   "cell_type": "markdown",
   "metadata": {},
   "source": [
    "#### Host susceptibility dependent transmission"
   ]
  },
  {
   "cell_type": "code",
   "execution_count": 144,
   "metadata": {},
   "outputs": [
    {
     "name": "stdout",
     "output_type": "stream",
     "text": [
      "Completed in: 0.14583992958068848 seconds\n",
      "48.63968526050156\n"
     ]
    }
   ],
   "source": [
    "import time\n",
    "\n",
    "start = time.time()\n",
    "# using the default parameters in the paper by Nandi and Allen\n",
    "time_hist, state_hist = gillespie_algo(100, X_0 = [5000, 500, 0, 1, 0, 0], rates = [0.2, 0.2, 5, 5, 0.5, 0.2])\n",
    "end = time.time()\n",
    "print(\"Completed in: \" +str(end - start) + \" seconds\")\n",
    "print(time_hist[-2])"
   ]
  },
  {
   "cell_type": "code",
   "execution_count": 145,
   "metadata": {},
   "outputs": [],
   "source": [
    "S_1 = [item[0] for item in state_hist]\n",
    "S_2 = [item[1] for item in state_hist]\n",
    "I_1 = [item[2] for item in state_hist]\n",
    "I_2 = [item[3] for item in state_hist]\n",
    "R_1 = [item[4] for item in state_hist]\n",
    "R_2 = [item[5] for item in state_hist]"
   ]
  },
  {
   "cell_type": "code",
   "execution_count": 146,
   "metadata": {},
   "outputs": [
    {
     "data": {
      "image/png": "[encoded data removed]",
      "text/plain": [
       "<Figure size 432x288 with 1 Axes>"
      ]
     },
     "metadata": {
      "needs_background": "light"
     },
     "output_type": "display_data"
    }
   ],
   "source": [
    "plt.plot(time_hist, I_1)\n",
    "plt.plot(time_hist, I_2)\n",
    "plt.legend([\"$I_1$\", \"$I_2$\"])\n",
    "plt.ylabel(\"Number of Infectives\")\n",
    "plt.xlabel(\"Time, t\")\n",
    "plt.show()"
   ]
  },
  {
   "cell_type": "markdown",
   "metadata": {},
   "source": [
    "### Simulations - Varying $\\mathcal{R}_0$ and transmission dependance"
   ]
  },
  {
   "cell_type": "markdown",
   "metadata": {},
   "source": [
    "In this section, we extend the model presented in [1] by considering different types of population interactions, along with different $\\mathcal{R}_0$ values. We start by considering the infected/susceptible dependent transmission models above, however altering the the parameters so that the $\\mathcal{R}_0$ lie closer to 1 and then below one.\n",
    "\n",
    "#### Simulations - $\\mathcal{R}_0 = 1.2$, driven by infectivity of host."
   ]
  },
  {
   "cell_type": "code",
   "execution_count": 202,
   "metadata": {},
   "outputs": [
    {
     "name": "stdout",
     "output_type": "stream",
     "text": [
      "Completed in: 0.04284811019897461 seconds\n",
      "33.65761900350261\n"
     ]
    }
   ],
   "source": [
    "import time\n",
    "R_0 = 1.2\n",
    "B_1 = 0.2\n",
    "B_2 = 2*(R_0 - 2*B_1*0.9)\n",
    "\n",
    "\n",
    "start = time.time()\n",
    "# using the default parameters in the paper by Nandi and Allen\n",
    "time_hist, state_hist = gillespie_algo(100, X_0 = [900, 100, 0, 1, 0, 0], rates = [B_1, B_2, B_1, B_2, 0.5, 0.2])\n",
    "end = time.time()\n",
    "print(\"Completed in: \" +str(end - start) + \" seconds\")\n",
    "print(time_hist[-2])"
   ]
  },
  {
   "cell_type": "code",
   "execution_count": 203,
   "metadata": {},
   "outputs": [],
   "source": [
    "S_1 = [item[0] for item in state_hist]\n",
    "S_2 = [item[1] for item in state_hist]\n",
    "I_1 = [item[2] for item in state_hist]\n",
    "I_2 = [item[3] for item in state_hist]\n",
    "R_1 = [item[4] for item in state_hist]\n",
    "R_2 = [item[5] for item in state_hist]"
   ]
  },
  {
   "cell_type": "code",
   "execution_count": 204,
   "metadata": {},
   "outputs": [
    {
     "data": {
      "image/png": "[encoded data removed]",
      "text/plain": [
       "<Figure size 432x288 with 1 Axes>"
      ]
     },
     "metadata": {
      "needs_background": "light"
     },
     "output_type": "display_data"
    }
   ],
   "source": [
    "plt.plot(time_hist, I_1, drawstyle = \"steps-pre\")\n",
    "plt.plot(time_hist, I_2, drawstyle = \"steps-pre\")\n",
    "plt.legend([\"$I_1$\", \"$I_2$\"])\n",
    "plt.ylabel(\"Number of Infectives\")\n",
    "plt.xlabel(\"Time, t\")\n",
    "plt.show()"
   ]
  },
  {
   "cell_type": "code",
   "execution_count": 205,
   "metadata": {},
   "outputs": [
    {
     "data": {
      "text/plain": [
       "1.6799999999999997"
      ]
     },
     "execution_count": 205,
     "metadata": {},
     "output_type": "execute_result"
    }
   ],
   "source": [
    "B_2"
   ]
  },
  {
   "cell_type": "markdown",
   "metadata": {},
   "source": [
    "#### Simulations - $\\mathcal{R}_0 = 0.85$, driven by infectivity of host - Minor Epidemic"
   ]
  },
  {
   "cell_type": "code",
   "execution_count": 235,
   "metadata": {},
   "outputs": [
    {
     "name": "stdout",
     "output_type": "stream",
     "text": [
      "Completed in: 0.0029594898223876953 seconds\n",
      "24.916543550034103\n"
     ]
    }
   ],
   "source": [
    "import time\n",
    "R_0 = 0.85\n",
    "B_1 = 0.2\n",
    "B_2 = 2*(R_0 - 2*B_1*0.9)\n",
    "\n",
    "\n",
    "start = time.time()\n",
    "# using the default parameters in the paper by Nandi and Allen\n",
    "time_hist, state_hist = gillespie_algo(100, X_0 = [900, 100, 0, 1, 0, 0], rates = [B_1, B_1, B_2, B_2, 0.5, 0.2])\n",
    "end = time.time()\n",
    "print(\"Completed in: \" +str(end - start) + \" seconds\")\n",
    "print(time_hist[-2])"
   ]
  },
  {
   "cell_type": "code",
   "execution_count": 236,
   "metadata": {},
   "outputs": [],
   "source": [
    "S_1 = [item[0] for item in state_hist]\n",
    "S_2 = [item[1] for item in state_hist]\n",
    "I_1 = [item[2] for item in state_hist]\n",
    "I_2 = [item[3] for item in state_hist]\n",
    "R_1 = [item[4] for item in state_hist]\n",
    "R_2 = [item[5] for item in state_hist]"
   ]
  },
  {
   "cell_type": "code",
   "execution_count": 237,
   "metadata": {},
   "outputs": [
    {
     "data": {
      "image/png": "[encoded data removed]",
      "text/plain": [
       "<Figure size 432x288 with 1 Axes>"
      ]
     },
     "metadata": {
      "needs_background": "light"
     },
     "output_type": "display_data"
    }
   ],
   "source": [
    "plt.plot(time_hist, I_1, drawstyle = \"steps-pre\")\n",
    "plt.plot(time_hist, I_2, drawstyle = \"steps-pre\")\n",
    "plt.legend([\"$I_1$\", \"$I_2$\"])\n",
    "plt.ylabel(\"Number of Infectives\")\n",
    "plt.xlabel(\"Time, t\")\n",
    "plt.show()"
   ]
  },
  {
   "cell_type": "markdown",
   "metadata": {},
   "source": [
    "### Strong within-group infections\n",
    "\n",
    "We alter the previously given models to consider a population which is susceptible to a disease. In this section, we consider a population of two groups, where there is strong transmission of the disease within the groups, and relatively weak transmission of the disease between groups (that is the groups do not mix often in comparison to their within group mixing). To model such a scenario, we consider the contact rates $\\beta_{jk}$; for the within-group contact rates to be stronger, we require that $\\beta_{11} >> \\beta_{21}$ and $\\beta_{22} >> \\beta_{12}$."
   ]
  },
  {
   "cell_type": "markdown",
   "metadata": {},
   "source": [
    "#### Simulation: $\\mathcal{R}_0 = 2.5$"
   ]
  },
  {
   "cell_type": "code",
   "execution_count": 310,
   "metadata": {},
   "outputs": [
    {
     "name": "stdout",
     "output_type": "stream",
     "text": [
      "R_0 = 2.4990496387253787\n",
      "Completed in: 0.005991935729980469 seconds\n",
      "57.441785514546304\n"
     ]
    }
   ],
   "source": [
    "import time\n",
    "# R_0 = 2.3\n",
    "# B_1 = 0.2\n",
    "# B_2 = 2*(R_0 - 2*B_1*0.9)\n",
    "\n",
    "B_11 = 0.6\n",
    "B_12 = 0.05\n",
    "B_21 = 0.05\n",
    "B_22 = 0.4\n",
    "N_1 = 500\n",
    "N_2 = 500\n",
    "N = N_1 + N_2\n",
    "y_1 = 0.2\n",
    "y_2 = 0.2\n",
    "\n",
    "print(\"R_0 = \" + str(  (1/(2*N)) * ((B_11*N_1)/(y_1) + (B_22*N_2)/(y_2) + math.sqrt(((B_11*N_1)/(y_1) + (B_22*N_2)/(y_2))**2 - 4*N_1*N_2*y_1*y_2*(B_11*B_22 - B_12*B_21))    ) ))\n",
    "\n",
    "start = time.time()\n",
    "# using the default parameters in the paper by Nandi and Allen\n",
    "time_hist, state_hist = gillespie_algo(100, X_0 = [500, 500, 0, 1, 0, 0], rates = [B_11, B_12, B_21, B_22, 0.2, 0.2])\n",
    "end = time.time()\n",
    "print(\"Completed in: \" +str(end - start) + \" seconds\")\n",
    "print(time_hist[-2])"
   ]
  },
  {
   "cell_type": "code",
   "execution_count": 311,
   "metadata": {},
   "outputs": [],
   "source": [
    "S_1 = [item[0] for item in state_hist]\n",
    "S_2 = [item[1] for item in state_hist]\n",
    "I_1 = [item[2] for item in state_hist]\n",
    "I_2 = [item[3] for item in state_hist]\n",
    "R_1 = [item[4] for item in state_hist]\n",
    "R_2 = [item[5] for item in state_hist]"
   ]
  },
  {
   "cell_type": "code",
   "execution_count": 312,
   "metadata": {},
   "outputs": [
    {
     "data": {
      "image/png": "[encoded data removed]",
      "text/plain": [
       "<Figure size 432x288 with 1 Axes>"
      ]
     },
     "metadata": {
      "needs_background": "light"
     },
     "output_type": "display_data"
    }
   ],
   "source": [
    "plt.plot(time_hist, I_1, drawstyle = \"steps-pre\")\n",
    "plt.plot(time_hist, I_2, drawstyle = \"steps-pre\")\n",
    "plt.legend([\"$I_1$\", \"$I_2$\"])\n",
    "plt.ylabel(\"Number of Infectives\")\n",
    "plt.xlabel(\"Time, t\")\n",
    "plt.show()"
   ]
  },
  {
   "cell_type": "markdown",
   "metadata": {},
   "source": [
    "#### Simulation: $\\mathcal{R}_0 = 1.2$"
   ]
  },
  {
   "cell_type": "code",
   "execution_count": 372,
   "metadata": {},
   "outputs": [
    {
     "name": "stdout",
     "output_type": "stream",
     "text": [
      "R_0 = 1.4763995112883819\n",
      "Completed in: 0.0009970664978027344 seconds\n",
      "Total waitig time: 11.485203621780744\n"
     ]
    }
   ],
   "source": [
    "import time\n",
    "# R_0 = 2.3\n",
    "# B_1 = 0.2\n",
    "# B_2 = 2*(R_0 - 2*B_1*0.9)\n",
    "\n",
    "B_11 = 0.8\n",
    "B_12 = 0.05\n",
    "B_21 = 0.05\n",
    "B_22 = 0.7\n",
    "N_1 = 500\n",
    "N_2 = 500\n",
    "N = N_1 + N_2\n",
    "y_1 = 0.5\n",
    "y_2 = 0.5\n",
    "\n",
    "print(\"R_0 = \" + str(  (1/(2*N)) * ((B_11*N_1)/(y_1) + (B_22*N_2)/(y_2) + math.sqrt(((B_11*N_1)/(y_1) + (B_22*N_2)/(y_2))**2 - 4*N_1*N_2*y_1*y_2*(B_11*B_22 - B_12*B_21))    ) ))\n",
    "\n",
    "start = time.time()\n",
    "# using the default parameters in the paper by Nandi and Allen\n",
    "time_hist, state_hist = gillespie_algo(100, X_0 = [500, 500, 0, 1, 0, 0], rates = [B_11, B_12, B_21, B_22, y_1, y_2])\n",
    "end = time.time()\n",
    "print(\"Completed in: \" +str(end - start) + \" seconds\")\n",
    "print(\"Total waitig time: \" + str(time_hist[-2]))"
   ]
  },
  {
   "cell_type": "code",
   "execution_count": 373,
   "metadata": {},
   "outputs": [],
   "source": [
    "S_1 = [item[0] for item in state_hist]\n",
    "S_2 = [item[1] for item in state_hist]\n",
    "I_1 = [item[2] for item in state_hist]\n",
    "I_2 = [item[3] for item in state_hist]\n",
    "R_1 = [item[4] for item in state_hist]\n",
    "R_2 = [item[5] for item in state_hist]"
   ]
  },
  {
   "cell_type": "code",
   "execution_count": 374,
   "metadata": {},
   "outputs": [
    {
     "data": {
      "image/png": "[encoded data removed]",
      "text/plain": [
       "<Figure size 432x288 with 1 Axes>"
      ]
     },
     "metadata": {
      "needs_background": "light"
     },
     "output_type": "display_data"
    }
   ],
   "source": [
    "plt.plot(time_hist, I_1, drawstyle = \"steps-pre\")\n",
    "plt.plot(time_hist, I_2, drawstyle = \"steps-pre\")\n",
    "plt.legend([\"$I_1$\", \"$I_2$\"])\n",
    "plt.ylabel(\"Number of Infectives\")\n",
    "plt.xlabel(\"Time, t\")\n",
    "plt.show()"
   ]
  },
  {
   "cell_type": "markdown",
   "metadata": {},
   "source": [
    "#### Simulation: $\\mathcal{R}_0 = 0.9$"
   ]
  },
  {
   "cell_type": "code",
   "execution_count": 376,
   "metadata": {},
   "outputs": [
    {
     "name": "stdout",
     "output_type": "stream",
     "text": [
      "R_0 = 0.9351290579826491\n",
      "Completed in: 0.0 seconds\n",
      "Total waitig time: 1.072494798380558\n"
     ]
    }
   ],
   "source": [
    "import time\n",
    "# R_0 = 2.3\n",
    "# B_1 = 0.2\n",
    "# B_2 = 2*(R_0 - 2*B_1*0.9)\n",
    "\n",
    "B_11 = 0.5\n",
    "B_12 = 0.05\n",
    "B_21 = 0.05\n",
    "B_22 = 0.45\n",
    "N_1 = 500\n",
    "N_2 = 500\n",
    "N = N_1 + N_2\n",
    "y_1 = 0.5\n",
    "y_2 = 0.5\n",
    "\n",
    "print(\"R_0 = \" + str(  (1/(2*N)) * ((B_11*N_1)/(y_1) + (B_22*N_2)/(y_2) + math.sqrt(((B_11*N_1)/(y_1) + (B_22*N_2)/(y_2))**2 - 4*N_1*N_2*y_1*y_2*(B_11*B_22 - B_12*B_21))    ) ))\n",
    "\n",
    "start = time.time()\n",
    "# using the default parameters in the paper by Nandi and Allen\n",
    "time_hist, state_hist = gillespie_algo(100, X_0 = [500, 500, 0, 1, 0, 0], rates = [B_11, B_12, B_21, B_22, y_1, y_2])\n",
    "end = time.time()\n",
    "print(\"Completed in: \" +str(end - start) + \" seconds\")\n",
    "print(\"Total waitig time: \" + str(time_hist[-2]))"
   ]
  },
  {
   "cell_type": "code",
   "execution_count": 377,
   "metadata": {},
   "outputs": [],
   "source": [
    "S_1 = [item[0] for item in state_hist]\n",
    "S_2 = [item[1] for item in state_hist]\n",
    "I_1 = [item[2] for item in state_hist]\n",
    "I_2 = [item[3] for item in state_hist]\n",
    "R_1 = [item[4] for item in state_hist]\n",
    "R_2 = [item[5] for item in state_hist]"
   ]
  },
  {
   "cell_type": "code",
   "execution_count": 378,
   "metadata": {},
   "outputs": [
    {
     "data": {
      "image/png": "[encoded data removed]",
      "text/plain": [
       "<Figure size 432x288 with 1 Axes>"
      ]
     },
     "metadata": {
      "needs_background": "light"
     },
     "output_type": "display_data"
    }
   ],
   "source": [
    "plt.plot(time_hist, I_1, drawstyle = \"steps-pre\")\n",
    "plt.plot(time_hist, I_2, drawstyle = \"steps-pre\")\n",
    "plt.legend([\"$I_1$\", \"$I_2$\"])\n",
    "plt.ylabel(\"Number of Infectives\")\n",
    "plt.xlabel(\"Time, t\")\n",
    "plt.show()"
   ]
  },
  {
   "cell_type": "code",
   "execution_count": null,
   "metadata": {},
   "outputs": [],
   "source": []
  }
 ],
 "metadata": {
  "kernelspec": {
   "display_name": "Python 3",
   "language": "python",
   "name": "python3"
  },
  "language_info": {
   "codemirror_mode": {
    "name": "ipython",
    "version": 3
   },
   "file_extension": ".py",
   "mimetype": "text/x-python",
   "name": "python",
   "nbconvert_exporter": "python",
   "pygments_lexer": "ipython3",
   "version": "3.6.6"
  }
 },
 "nbformat": 4,
 "nbformat_minor": 2
}
